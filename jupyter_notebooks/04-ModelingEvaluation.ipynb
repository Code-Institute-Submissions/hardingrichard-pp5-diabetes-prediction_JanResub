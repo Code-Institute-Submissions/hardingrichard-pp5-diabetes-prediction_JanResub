{
  "cells": [
    {
      "attachments": {},
      "cell_type": "markdown",
      "metadata": {
        "id": "0aStgWSO0E0E"
      },
      "source": [
        "# **Predicting Outcome for Diabetes**"
      ]
    },
    {
      "attachments": {},
      "cell_type": "markdown",
      "metadata": {
        "id": "1eLEkw5O0ECa"
      },
      "source": [
        "## Objectives\n",
        "\n",
        "* To build a Support Vector Machine Learning model in order to predict whether a patient is Diabetic or Non-Diabetic.\n",
        "* Evaluate the accuracy score of the Machine Learning model.\n",
        "\n",
        "## Inputs\n",
        "\n",
        "* outputs/datasets/collection/diabetes.csv\n",
        "\n",
        "* outputs/datasets/cleaned/x_train_cleaned.csv\n",
        "* outputs/datasets/cleaned/x_test_cleaned.csv\n",
        "* outputs/datasets/cleaned/y_train_cleaned.csv\n",
        "* outputs/datasets/cleaned/y_test_cleaned.csv\n",
        "\n",
        "## Outputs\n",
        "\n",
        "* x_train dataset\n",
        "* y_train dataset\n",
        "* Support Vector Machine Pipeline\n",
        "\n",
        "## Additional Comments\n",
        "\n",
        "* This Notebook falls under the CRISP-DM of Modeling and Evaluation. There is also a small part Data preparation involved from previous notebook.\n",
        "* A Machine Learning Model will be created using a SVM model which we will then evaluate the accuracy score\n"
      ]
    },
    {
      "cell_type": "markdown",
      "metadata": {
        "id": "9uWZXH9LwoQg"
      },
      "source": [
        "---"
      ]
    },
    {
      "cell_type": "markdown",
      "metadata": {
        "id": "cqP-UeN-z3i2"
      },
      "source": [
        "# Change working directory"
      ]
    },
    {
      "attachments": {},
      "cell_type": "markdown",
      "metadata": {},
      "source": [
        "* As the notebooks are stored in the subfolder 'jupyter_notebooks' we therefore, when running the notebook in the editor, need to change the working directory."
      ]
    },
    {
      "cell_type": "markdown",
      "metadata": {
        "id": "aOGIGS-uz3i2"
      },
      "source": [
        "We need to change the working directory from its current folder to its parent folder\n",
        "* We access the current directory with os.getcwd()"
      ]
    },
    {
      "cell_type": "code",
      "execution_count": 1,
      "metadata": {
        "id": "wZfF_j-Bz3i4",
        "outputId": "66943449-1436-4c3d-85c7-b85f9f78349b"
      },
      "outputs": [
        {
          "data": {
            "text/plain": [
              "'/workspace/pp5-diabetes-prediction/jupyter_notebooks'"
            ]
          },
          "execution_count": 1,
          "metadata": {},
          "output_type": "execute_result"
        }
      ],
      "source": [
        "import os\n",
        "current_dir = os.getcwd()\n",
        "current_dir"
      ]
    },
    {
      "cell_type": "markdown",
      "metadata": {
        "id": "9MWW8E7lz3i7"
      },
      "source": [
        "We want to make the parent of the current directory the new current directory\n",
        "* os.path.dirname() gets the parent directory\n",
        "* os.chir() defines the new current directory"
      ]
    },
    {
      "cell_type": "code",
      "execution_count": 2,
      "metadata": {
        "id": "TwHsQRWjz3i9",
        "outputId": "86849db3-cd2f-4cc5-ebb8-2d0caafa1a2c"
      },
      "outputs": [
        {
          "name": "stdout",
          "output_type": "stream",
          "text": [
            "You set a new current directory\n"
          ]
        }
      ],
      "source": [
        "os.chdir(os.path.dirname(current_dir))\n",
        "print(\"You set a new current directory\")"
      ]
    },
    {
      "cell_type": "markdown",
      "metadata": {
        "id": "M_xPk_Ijz3i-"
      },
      "source": [
        "Confirm the new current directory"
      ]
    },
    {
      "cell_type": "code",
      "execution_count": 3,
      "metadata": {
        "id": "vz3S-_kjz3jA",
        "outputId": "00b79ae4-75d0-4a96-d193-ac9ef9847ea2"
      },
      "outputs": [
        {
          "data": {
            "text/plain": [
              "'/workspace/pp5-diabetes-prediction'"
            ]
          },
          "execution_count": 3,
          "metadata": {},
          "output_type": "execute_result"
        }
      ],
      "source": [
        "current_dir = os.getcwd()\n",
        "current_dir"
      ]
    },
    {
      "attachments": {},
      "cell_type": "markdown",
      "metadata": {},
      "source": [
        "# Importing the Libraries"
      ]
    },
    {
      "attachments": {},
      "cell_type": "markdown",
      "metadata": {},
      "source": [
        "* Here we import the libraries/dependencies that will be used for creation of the Machine Learning Model"
      ]
    },
    {
      "cell_type": "code",
      "execution_count": 5,
      "metadata": {},
      "outputs": [],
      "source": [
        "import pandas as pd\n",
        "import numpy as np\n",
        "import seaborn as sns\n",
        "import matplotlib.pyplot as plt\n",
        "\n",
        "from sklearn.preprocessing import StandardScaler\n",
        "from sklearn.model_selection import train_test_split\n",
        "from sklearn.metrics import accuracy_score\n",
        "from sklearn import svm\n",
        "\n",
        "%matplotlib inline"
      ]
    },
    {
      "attachments": {},
      "cell_type": "markdown",
      "metadata": {
        "id": "-mavJ8DibrcQ"
      },
      "source": [
        "# Loading the Datasets"
      ]
    },
    {
      "attachments": {},
      "cell_type": "markdown",
      "metadata": {},
      "source": [
        "* We will load the Diabetes Dataset along with the cleaned data from previous for use"
      ]
    },
    {
      "attachments": {},
      "cell_type": "markdown",
      "metadata": {},
      "source": [
        "#### Diabetes Source Dataset"
      ]
    },
    {
      "cell_type": "code",
      "execution_count": 16,
      "metadata": {},
      "outputs": [
        {
          "data": {
            "text/plain": [
              "(768, 9)"
            ]
          },
          "execution_count": 16,
          "metadata": {},
          "output_type": "execute_result"
        }
      ],
      "source": [
        "import pandas as pd\n",
        "\n",
        "df = pd.read_csv(f\"outputs/datasets/collection/diabetes.csv\")\n",
        "df.head(15)\n",
        "df.shape"
      ]
    },
    {
      "attachments": {},
      "cell_type": "markdown",
      "metadata": {},
      "source": [
        "#### Cleaned Train Datasets"
      ]
    },
    {
      "cell_type": "code",
      "execution_count": 7,
      "metadata": {},
      "outputs": [
        {
          "data": {
            "text/html": [
              "<div>\n",
              "<style scoped>\n",
              "    .dataframe tbody tr th:only-of-type {\n",
              "        vertical-align: middle;\n",
              "    }\n",
              "\n",
              "    .dataframe tbody tr th {\n",
              "        vertical-align: top;\n",
              "    }\n",
              "\n",
              "    .dataframe thead th {\n",
              "        text-align: right;\n",
              "    }\n",
              "</style>\n",
              "<table border=\"1\" class=\"dataframe\">\n",
              "  <thead>\n",
              "    <tr style=\"text-align: right;\">\n",
              "      <th></th>\n",
              "      <th>Pregnancies</th>\n",
              "      <th>Glucose</th>\n",
              "      <th>BloodPressure</th>\n",
              "      <th>SkinThickness</th>\n",
              "      <th>Insulin</th>\n",
              "      <th>BMI</th>\n",
              "      <th>DiabetesPedigreeFunction</th>\n",
              "      <th>Age</th>\n",
              "    </tr>\n",
              "  </thead>\n",
              "  <tbody>\n",
              "    <tr>\n",
              "      <th>0</th>\n",
              "      <td>0.342981</td>\n",
              "      <td>0.569003</td>\n",
              "      <td>-0.692669</td>\n",
              "      <td>0.812528</td>\n",
              "      <td>0.446236</td>\n",
              "      <td>-0.557565</td>\n",
              "      <td>-0.183854</td>\n",
              "      <td>-0.616111</td>\n",
              "    </tr>\n",
              "    <tr>\n",
              "      <th>1</th>\n",
              "      <td>-0.547919</td>\n",
              "      <td>-0.482096</td>\n",
              "      <td>0.134013</td>\n",
              "      <td>0.275781</td>\n",
              "      <td>0.076040</td>\n",
              "      <td>0.169583</td>\n",
              "      <td>-0.204994</td>\n",
              "      <td>-0.871374</td>\n",
              "    </tr>\n",
              "    <tr>\n",
              "      <th>2</th>\n",
              "      <td>-0.250952</td>\n",
              "      <td>-0.449249</td>\n",
              "      <td>-0.858006</td>\n",
              "      <td>-0.368314</td>\n",
              "      <td>-0.488510</td>\n",
              "      <td>-0.935682</td>\n",
              "      <td>-0.751636</td>\n",
              "      <td>-0.701198</td>\n",
              "    </tr>\n",
              "    <tr>\n",
              "      <th>3</th>\n",
              "      <td>-0.844885</td>\n",
              "      <td>-0.219321</td>\n",
              "      <td>-0.196660</td>\n",
              "      <td>0.275781</td>\n",
              "      <td>0.039020</td>\n",
              "      <td>0.315012</td>\n",
              "      <td>0.172520</td>\n",
              "      <td>-0.105584</td>\n",
              "    </tr>\n",
              "    <tr>\n",
              "      <th>4</th>\n",
              "      <td>-0.844885</td>\n",
              "      <td>-1.139033</td>\n",
              "      <td>0.464686</td>\n",
              "      <td>-0.046266</td>\n",
              "      <td>-0.553294</td>\n",
              "      <td>0.315012</td>\n",
              "      <td>-1.120090</td>\n",
              "      <td>-0.956462</td>\n",
              "    </tr>\n",
              "    <tr>\n",
              "      <th>5</th>\n",
              "      <td>0.639947</td>\n",
              "      <td>-0.941952</td>\n",
              "      <td>-1.850024</td>\n",
              "      <td>0.275781</td>\n",
              "      <td>-0.257137</td>\n",
              "      <td>-0.543022</td>\n",
              "      <td>-0.349960</td>\n",
              "      <td>-0.871374</td>\n",
              "    </tr>\n",
              "    <tr>\n",
              "      <th>6</th>\n",
              "      <td>-0.547919</td>\n",
              "      <td>-0.712024</td>\n",
              "      <td>-0.527333</td>\n",
              "      <td>-0.797711</td>\n",
              "      <td>-0.016509</td>\n",
              "      <td>0.067782</td>\n",
              "      <td>1.193320</td>\n",
              "      <td>-0.445935</td>\n",
              "    </tr>\n",
              "    <tr>\n",
              "      <th>7</th>\n",
              "      <td>0.046014</td>\n",
              "      <td>-0.810564</td>\n",
              "      <td>-1.023342</td>\n",
              "      <td>-0.475663</td>\n",
              "      <td>-0.488510</td>\n",
              "      <td>-0.615737</td>\n",
              "      <td>-0.087210</td>\n",
              "      <td>-0.956462</td>\n",
              "    </tr>\n",
              "    <tr>\n",
              "      <th>8</th>\n",
              "      <td>-1.141852</td>\n",
              "      <td>-0.646330</td>\n",
              "      <td>-1.684688</td>\n",
              "      <td>-0.690362</td>\n",
              "      <td>-0.488510</td>\n",
              "      <td>-1.066568</td>\n",
              "      <td>-1.189553</td>\n",
              "      <td>-1.041549</td>\n",
              "    </tr>\n",
              "    <tr>\n",
              "      <th>9</th>\n",
              "      <td>-1.141852</td>\n",
              "      <td>0.043454</td>\n",
              "      <td>1.291368</td>\n",
              "      <td>1.027226</td>\n",
              "      <td>-0.488510</td>\n",
              "      <td>0.402270</td>\n",
              "      <td>-0.830159</td>\n",
              "      <td>-0.360847</td>\n",
              "    </tr>\n",
              "    <tr>\n",
              "      <th>10</th>\n",
              "      <td>1.233880</td>\n",
              "      <td>0.371922</td>\n",
              "      <td>-0.031324</td>\n",
              "      <td>-0.046266</td>\n",
              "      <td>-0.849452</td>\n",
              "      <td>0.067782</td>\n",
              "      <td>-0.609690</td>\n",
              "      <td>0.490030</td>\n",
              "    </tr>\n",
              "    <tr>\n",
              "      <th>11</th>\n",
              "      <td>1.827813</td>\n",
              "      <td>1.291634</td>\n",
              "      <td>-0.361996</td>\n",
              "      <td>-0.475663</td>\n",
              "      <td>0.372197</td>\n",
              "      <td>-1.008397</td>\n",
              "      <td>-0.440564</td>\n",
              "      <td>1.170732</td>\n",
              "    </tr>\n",
              "    <tr>\n",
              "      <th>12</th>\n",
              "      <td>1.530847</td>\n",
              "      <td>1.127400</td>\n",
              "      <td>1.126031</td>\n",
              "      <td>-0.046266</td>\n",
              "      <td>-0.849452</td>\n",
              "      <td>-1.110197</td>\n",
              "      <td>-0.730495</td>\n",
              "      <td>1.681259</td>\n",
              "    </tr>\n",
              "    <tr>\n",
              "      <th>13</th>\n",
              "      <td>-0.844885</td>\n",
              "      <td>0.207688</td>\n",
              "      <td>0.795359</td>\n",
              "      <td>-1.119759</td>\n",
              "      <td>0.844197</td>\n",
              "      <td>-0.717538</td>\n",
              "      <td>-1.077809</td>\n",
              "      <td>-0.956462</td>\n",
              "    </tr>\n",
              "    <tr>\n",
              "      <th>14</th>\n",
              "      <td>-0.547919</td>\n",
              "      <td>-0.646330</td>\n",
              "      <td>1.126031</td>\n",
              "      <td>0.919877</td>\n",
              "      <td>0.261138</td>\n",
              "      <td>1.900194</td>\n",
              "      <td>-1.041567</td>\n",
              "      <td>-0.871374</td>\n",
              "    </tr>\n",
              "  </tbody>\n",
              "</table>\n",
              "</div>"
            ],
            "text/plain": [
              "    Pregnancies   Glucose  BloodPressure  SkinThickness   Insulin       BMI  \\\n",
              "0      0.342981  0.569003      -0.692669       0.812528  0.446236 -0.557565   \n",
              "1     -0.547919 -0.482096       0.134013       0.275781  0.076040  0.169583   \n",
              "2     -0.250952 -0.449249      -0.858006      -0.368314 -0.488510 -0.935682   \n",
              "3     -0.844885 -0.219321      -0.196660       0.275781  0.039020  0.315012   \n",
              "4     -0.844885 -1.139033       0.464686      -0.046266 -0.553294  0.315012   \n",
              "5      0.639947 -0.941952      -1.850024       0.275781 -0.257137 -0.543022   \n",
              "6     -0.547919 -0.712024      -0.527333      -0.797711 -0.016509  0.067782   \n",
              "7      0.046014 -0.810564      -1.023342      -0.475663 -0.488510 -0.615737   \n",
              "8     -1.141852 -0.646330      -1.684688      -0.690362 -0.488510 -1.066568   \n",
              "9     -1.141852  0.043454       1.291368       1.027226 -0.488510  0.402270   \n",
              "10     1.233880  0.371922      -0.031324      -0.046266 -0.849452  0.067782   \n",
              "11     1.827813  1.291634      -0.361996      -0.475663  0.372197 -1.008397   \n",
              "12     1.530847  1.127400       1.126031      -0.046266 -0.849452 -1.110197   \n",
              "13    -0.844885  0.207688       0.795359      -1.119759  0.844197 -0.717538   \n",
              "14    -0.547919 -0.646330       1.126031       0.919877  0.261138  1.900194   \n",
              "\n",
              "    DiabetesPedigreeFunction       Age  \n",
              "0                  -0.183854 -0.616111  \n",
              "1                  -0.204994 -0.871374  \n",
              "2                  -0.751636 -0.701198  \n",
              "3                   0.172520 -0.105584  \n",
              "4                  -1.120090 -0.956462  \n",
              "5                  -0.349960 -0.871374  \n",
              "6                   1.193320 -0.445935  \n",
              "7                  -0.087210 -0.956462  \n",
              "8                  -1.189553 -1.041549  \n",
              "9                  -0.830159 -0.360847  \n",
              "10                 -0.609690  0.490030  \n",
              "11                 -0.440564  1.170732  \n",
              "12                 -0.730495  1.681259  \n",
              "13                 -1.077809 -0.956462  \n",
              "14                 -1.041567 -0.871374  "
            ]
          },
          "execution_count": 7,
          "metadata": {},
          "output_type": "execute_result"
        }
      ],
      "source": [
        "x_train_path = \"outputs/datasets/cleaned/x_train_cleaned.csv\"\n",
        "x_train = pd.read_csv(x_train_path)\n",
        "\n",
        "x_train.head(15)"
      ]
    },
    {
      "cell_type": "code",
      "execution_count": 8,
      "metadata": {},
      "outputs": [
        {
          "data": {
            "text/html": [
              "<div>\n",
              "<style scoped>\n",
              "    .dataframe tbody tr th:only-of-type {\n",
              "        vertical-align: middle;\n",
              "    }\n",
              "\n",
              "    .dataframe tbody tr th {\n",
              "        vertical-align: top;\n",
              "    }\n",
              "\n",
              "    .dataframe thead th {\n",
              "        text-align: right;\n",
              "    }\n",
              "</style>\n",
              "<table border=\"1\" class=\"dataframe\">\n",
              "  <thead>\n",
              "    <tr style=\"text-align: right;\">\n",
              "      <th></th>\n",
              "      <th>Outcome</th>\n",
              "    </tr>\n",
              "  </thead>\n",
              "  <tbody>\n",
              "    <tr>\n",
              "      <th>0</th>\n",
              "      <td>0</td>\n",
              "    </tr>\n",
              "    <tr>\n",
              "      <th>1</th>\n",
              "      <td>0</td>\n",
              "    </tr>\n",
              "    <tr>\n",
              "      <th>2</th>\n",
              "      <td>0</td>\n",
              "    </tr>\n",
              "    <tr>\n",
              "      <th>3</th>\n",
              "      <td>1</td>\n",
              "    </tr>\n",
              "    <tr>\n",
              "      <th>4</th>\n",
              "      <td>0</td>\n",
              "    </tr>\n",
              "  </tbody>\n",
              "</table>\n",
              "</div>"
            ],
            "text/plain": [
              "   Outcome\n",
              "0        0\n",
              "1        0\n",
              "2        0\n",
              "3        1\n",
              "4        0"
            ]
          },
          "execution_count": 8,
          "metadata": {},
          "output_type": "execute_result"
        }
      ],
      "source": [
        "y_train_path = \"outputs/datasets/cleaned/y_train_cleaned.csv\"\n",
        "y_train = pd.read_csv(y_train_path)\n",
        "\n",
        "y_train.head(5)"
      ]
    },
    {
      "attachments": {},
      "cell_type": "markdown",
      "metadata": {},
      "source": [
        "#### Cleaned Test Datasets"
      ]
    },
    {
      "cell_type": "code",
      "execution_count": 9,
      "metadata": {},
      "outputs": [
        {
          "data": {
            "text/html": [
              "<div>\n",
              "<style scoped>\n",
              "    .dataframe tbody tr th:only-of-type {\n",
              "        vertical-align: middle;\n",
              "    }\n",
              "\n",
              "    .dataframe tbody tr th {\n",
              "        vertical-align: top;\n",
              "    }\n",
              "\n",
              "    .dataframe thead th {\n",
              "        text-align: right;\n",
              "    }\n",
              "</style>\n",
              "<table border=\"1\" class=\"dataframe\">\n",
              "  <thead>\n",
              "    <tr style=\"text-align: right;\">\n",
              "      <th></th>\n",
              "      <th>Pregnancies</th>\n",
              "      <th>Glucose</th>\n",
              "      <th>BloodPressure</th>\n",
              "      <th>SkinThickness</th>\n",
              "      <th>Insulin</th>\n",
              "      <th>BMI</th>\n",
              "      <th>DiabetesPedigreeFunction</th>\n",
              "      <th>Age</th>\n",
              "    </tr>\n",
              "  </thead>\n",
              "  <tbody>\n",
              "    <tr>\n",
              "      <th>0</th>\n",
              "      <td>0.342981</td>\n",
              "      <td>0.831778</td>\n",
              "      <td>0.464686</td>\n",
              "      <td>-0.690362</td>\n",
              "      <td>-0.488510</td>\n",
              "      <td>0.184126</td>\n",
              "      <td>-0.766737</td>\n",
              "      <td>2.702312</td>\n",
              "    </tr>\n",
              "    <tr>\n",
              "      <th>1</th>\n",
              "      <td>-0.844885</td>\n",
              "      <td>-0.876258</td>\n",
              "      <td>0.795359</td>\n",
              "      <td>-0.260965</td>\n",
              "      <td>0.816433</td>\n",
              "      <td>0.373184</td>\n",
              "      <td>-0.721435</td>\n",
              "      <td>0.830381</td>\n",
              "    </tr>\n",
              "    <tr>\n",
              "      <th>2</th>\n",
              "      <td>-0.250952</td>\n",
              "      <td>-0.350709</td>\n",
              "      <td>-0.858006</td>\n",
              "      <td>-0.690362</td>\n",
              "      <td>-0.488510</td>\n",
              "      <td>-1.430142</td>\n",
              "      <td>-0.996266</td>\n",
              "      <td>-1.041549</td>\n",
              "    </tr>\n",
              "    <tr>\n",
              "      <th>3</th>\n",
              "      <td>0.639947</td>\n",
              "      <td>-0.416402</td>\n",
              "      <td>-1.023342</td>\n",
              "      <td>-0.046266</td>\n",
              "      <td>-0.488510</td>\n",
              "      <td>-1.081111</td>\n",
              "      <td>-0.802978</td>\n",
              "      <td>-0.531023</td>\n",
              "    </tr>\n",
              "    <tr>\n",
              "      <th>4</th>\n",
              "      <td>-0.250952</td>\n",
              "      <td>-0.219321</td>\n",
              "      <td>-0.527333</td>\n",
              "      <td>1.241924</td>\n",
              "      <td>0.446236</td>\n",
              "      <td>0.824015</td>\n",
              "      <td>-0.972105</td>\n",
              "      <td>-0.445935</td>\n",
              "    </tr>\n",
              "    <tr>\n",
              "      <th>5</th>\n",
              "      <td>-0.844885</td>\n",
              "      <td>-1.040492</td>\n",
              "      <td>-0.858006</td>\n",
              "      <td>-1.012410</td>\n",
              "      <td>-0.303412</td>\n",
              "      <td>-1.066568</td>\n",
              "      <td>2.404388</td>\n",
              "      <td>-0.701198</td>\n",
              "    </tr>\n",
              "    <tr>\n",
              "      <th>6</th>\n",
              "      <td>-0.844885</td>\n",
              "      <td>0.798931</td>\n",
              "      <td>-1.354015</td>\n",
              "      <td>-0.690362</td>\n",
              "      <td>-0.488510</td>\n",
              "      <td>-0.397593</td>\n",
              "      <td>0.278225</td>\n",
              "      <td>-0.360847</td>\n",
              "    </tr>\n",
              "    <tr>\n",
              "      <th>7</th>\n",
              "      <td>1.233880</td>\n",
              "      <td>-0.055087</td>\n",
              "      <td>0.464686</td>\n",
              "      <td>-0.690362</td>\n",
              "      <td>-0.488510</td>\n",
              "      <td>-1.081111</td>\n",
              "      <td>-0.189894</td>\n",
              "      <td>2.617224</td>\n",
              "    </tr>\n",
              "    <tr>\n",
              "      <th>8</th>\n",
              "      <td>-1.141852</td>\n",
              "      <td>0.503310</td>\n",
              "      <td>0.960695</td>\n",
              "      <td>-0.046266</td>\n",
              "      <td>-0.488510</td>\n",
              "      <td>-0.746623</td>\n",
              "      <td>-0.727475</td>\n",
              "      <td>2.191785</td>\n",
              "    </tr>\n",
              "    <tr>\n",
              "      <th>9</th>\n",
              "      <td>0.046014</td>\n",
              "      <td>0.240535</td>\n",
              "      <td>-1.023342</td>\n",
              "      <td>-1.656505</td>\n",
              "      <td>1.288433</td>\n",
              "      <td>-0.717538</td>\n",
              "      <td>0.166480</td>\n",
              "      <td>-0.190672</td>\n",
              "    </tr>\n",
              "    <tr>\n",
              "      <th>10</th>\n",
              "      <td>-0.844885</td>\n",
              "      <td>-1.106186</td>\n",
              "      <td>0.464686</td>\n",
              "      <td>0.168432</td>\n",
              "      <td>-0.146078</td>\n",
              "      <td>-0.063105</td>\n",
              "      <td>-0.322779</td>\n",
              "      <td>-0.360847</td>\n",
              "    </tr>\n",
              "    <tr>\n",
              "      <th>11</th>\n",
              "      <td>2.124780</td>\n",
              "      <td>-0.613483</td>\n",
              "      <td>-0.361996</td>\n",
              "      <td>1.349274</td>\n",
              "      <td>-0.488510</td>\n",
              "      <td>2.001995</td>\n",
              "      <td>-1.044587</td>\n",
              "      <td>0.745293</td>\n",
              "    </tr>\n",
              "    <tr>\n",
              "      <th>12</th>\n",
              "      <td>-0.547919</td>\n",
              "      <td>-0.449249</td>\n",
              "      <td>-0.858006</td>\n",
              "      <td>0.490480</td>\n",
              "      <td>-0.331176</td>\n",
              "      <td>-1.052025</td>\n",
              "      <td>-1.038547</td>\n",
              "      <td>-1.041549</td>\n",
              "    </tr>\n",
              "    <tr>\n",
              "      <th>13</th>\n",
              "      <td>0.342981</td>\n",
              "      <td>2.145652</td>\n",
              "      <td>0.299349</td>\n",
              "      <td>-0.046266</td>\n",
              "      <td>1.066315</td>\n",
              "      <td>1.623878</td>\n",
              "      <td>1.697680</td>\n",
              "      <td>1.681259</td>\n",
              "    </tr>\n",
              "    <tr>\n",
              "      <th>14</th>\n",
              "      <td>-0.547919</td>\n",
              "      <td>0.798931</td>\n",
              "      <td>-0.196660</td>\n",
              "      <td>1.134575</td>\n",
              "      <td>2.482317</td>\n",
              "      <td>-0.644823</td>\n",
              "      <td>-0.407342</td>\n",
              "      <td>-0.360847</td>\n",
              "    </tr>\n",
              "  </tbody>\n",
              "</table>\n",
              "</div>"
            ],
            "text/plain": [
              "    Pregnancies   Glucose  BloodPressure  SkinThickness   Insulin       BMI  \\\n",
              "0      0.342981  0.831778       0.464686      -0.690362 -0.488510  0.184126   \n",
              "1     -0.844885 -0.876258       0.795359      -0.260965  0.816433  0.373184   \n",
              "2     -0.250952 -0.350709      -0.858006      -0.690362 -0.488510 -1.430142   \n",
              "3      0.639947 -0.416402      -1.023342      -0.046266 -0.488510 -1.081111   \n",
              "4     -0.250952 -0.219321      -0.527333       1.241924  0.446236  0.824015   \n",
              "5     -0.844885 -1.040492      -0.858006      -1.012410 -0.303412 -1.066568   \n",
              "6     -0.844885  0.798931      -1.354015      -0.690362 -0.488510 -0.397593   \n",
              "7      1.233880 -0.055087       0.464686      -0.690362 -0.488510 -1.081111   \n",
              "8     -1.141852  0.503310       0.960695      -0.046266 -0.488510 -0.746623   \n",
              "9      0.046014  0.240535      -1.023342      -1.656505  1.288433 -0.717538   \n",
              "10    -0.844885 -1.106186       0.464686       0.168432 -0.146078 -0.063105   \n",
              "11     2.124780 -0.613483      -0.361996       1.349274 -0.488510  2.001995   \n",
              "12    -0.547919 -0.449249      -0.858006       0.490480 -0.331176 -1.052025   \n",
              "13     0.342981  2.145652       0.299349      -0.046266  1.066315  1.623878   \n",
              "14    -0.547919  0.798931      -0.196660       1.134575  2.482317 -0.644823   \n",
              "\n",
              "    DiabetesPedigreeFunction       Age  \n",
              "0                  -0.766737  2.702312  \n",
              "1                  -0.721435  0.830381  \n",
              "2                  -0.996266 -1.041549  \n",
              "3                  -0.802978 -0.531023  \n",
              "4                  -0.972105 -0.445935  \n",
              "5                   2.404388 -0.701198  \n",
              "6                   0.278225 -0.360847  \n",
              "7                  -0.189894  2.617224  \n",
              "8                  -0.727475  2.191785  \n",
              "9                   0.166480 -0.190672  \n",
              "10                 -0.322779 -0.360847  \n",
              "11                 -1.044587  0.745293  \n",
              "12                 -1.038547 -1.041549  \n",
              "13                  1.697680  1.681259  \n",
              "14                 -0.407342 -0.360847  "
            ]
          },
          "execution_count": 9,
          "metadata": {},
          "output_type": "execute_result"
        }
      ],
      "source": [
        "x_test_path = \"outputs/datasets/cleaned/x_test_cleaned.csv\"\n",
        "x_test = pd.read_csv(x_test_path)\n",
        "\n",
        "x_test.head(15)"
      ]
    },
    {
      "cell_type": "code",
      "execution_count": 11,
      "metadata": {},
      "outputs": [
        {
          "data": {
            "text/html": [
              "<div>\n",
              "<style scoped>\n",
              "    .dataframe tbody tr th:only-of-type {\n",
              "        vertical-align: middle;\n",
              "    }\n",
              "\n",
              "    .dataframe tbody tr th {\n",
              "        vertical-align: top;\n",
              "    }\n",
              "\n",
              "    .dataframe thead th {\n",
              "        text-align: right;\n",
              "    }\n",
              "</style>\n",
              "<table border=\"1\" class=\"dataframe\">\n",
              "  <thead>\n",
              "    <tr style=\"text-align: right;\">\n",
              "      <th></th>\n",
              "      <th>Outcome</th>\n",
              "    </tr>\n",
              "  </thead>\n",
              "  <tbody>\n",
              "    <tr>\n",
              "      <th>0</th>\n",
              "      <td>0</td>\n",
              "    </tr>\n",
              "    <tr>\n",
              "      <th>1</th>\n",
              "      <td>1</td>\n",
              "    </tr>\n",
              "    <tr>\n",
              "      <th>2</th>\n",
              "      <td>0</td>\n",
              "    </tr>\n",
              "    <tr>\n",
              "      <th>3</th>\n",
              "      <td>0</td>\n",
              "    </tr>\n",
              "    <tr>\n",
              "      <th>4</th>\n",
              "      <td>0</td>\n",
              "    </tr>\n",
              "  </tbody>\n",
              "</table>\n",
              "</div>"
            ],
            "text/plain": [
              "   Outcome\n",
              "0        0\n",
              "1        1\n",
              "2        0\n",
              "3        0\n",
              "4        0"
            ]
          },
          "execution_count": 11,
          "metadata": {},
          "output_type": "execute_result"
        }
      ],
      "source": [
        "y_test_path = \"outputs/datasets/cleaned/y_test_cleaned.csv\"\n",
        "y_test = pd.read_csv(y_test_path)\n",
        "\n",
        "y_test.head(5)"
      ]
    },
    {
      "attachments": {},
      "cell_type": "markdown",
      "metadata": {},
      "source": [
        "Dataset shape"
      ]
    },
    {
      "cell_type": "code",
      "execution_count": 14,
      "metadata": {},
      "outputs": [
        {
          "name": "stdout",
          "output_type": "stream",
          "text": [
            "(768, 9) (691, 8) (77, 8)\n"
          ]
        }
      ],
      "source": [
        "print(df.shape, x_train.shape, x_test.shape)"
      ]
    },
    {
      "attachments": {},
      "cell_type": "markdown",
      "metadata": {},
      "source": [
        "Double checking the mean of variables for diabetic and non-diabetic"
      ]
    },
    {
      "cell_type": "code",
      "execution_count": 20,
      "metadata": {},
      "outputs": [
        {
          "data": {
            "text/html": [
              "<div>\n",
              "<style scoped>\n",
              "    .dataframe tbody tr th:only-of-type {\n",
              "        vertical-align: middle;\n",
              "    }\n",
              "\n",
              "    .dataframe tbody tr th {\n",
              "        vertical-align: top;\n",
              "    }\n",
              "\n",
              "    .dataframe thead th {\n",
              "        text-align: right;\n",
              "    }\n",
              "</style>\n",
              "<table border=\"1\" class=\"dataframe\">\n",
              "  <thead>\n",
              "    <tr style=\"text-align: right;\">\n",
              "      <th></th>\n",
              "      <th>Pregnancies</th>\n",
              "      <th>Glucose</th>\n",
              "      <th>BloodPressure</th>\n",
              "      <th>SkinThickness</th>\n",
              "      <th>Insulin</th>\n",
              "      <th>BMI</th>\n",
              "      <th>DiabetesPedigreeFunction</th>\n",
              "      <th>Age</th>\n",
              "    </tr>\n",
              "    <tr>\n",
              "      <th>Outcome</th>\n",
              "      <th></th>\n",
              "      <th></th>\n",
              "      <th></th>\n",
              "      <th></th>\n",
              "      <th></th>\n",
              "      <th></th>\n",
              "      <th></th>\n",
              "      <th></th>\n",
              "    </tr>\n",
              "  </thead>\n",
              "  <tbody>\n",
              "    <tr>\n",
              "      <th>0</th>\n",
              "      <td>3.298000</td>\n",
              "      <td>109.980000</td>\n",
              "      <td>70.844000</td>\n",
              "      <td>19.664000</td>\n",
              "      <td>68.792000</td>\n",
              "      <td>30.304200</td>\n",
              "      <td>0.429734</td>\n",
              "      <td>31.190000</td>\n",
              "    </tr>\n",
              "    <tr>\n",
              "      <th>1</th>\n",
              "      <td>4.865672</td>\n",
              "      <td>141.257463</td>\n",
              "      <td>75.242537</td>\n",
              "      <td>22.164179</td>\n",
              "      <td>100.335821</td>\n",
              "      <td>35.142537</td>\n",
              "      <td>0.550500</td>\n",
              "      <td>37.067164</td>\n",
              "    </tr>\n",
              "  </tbody>\n",
              "</table>\n",
              "</div>"
            ],
            "text/plain": [
              "         Pregnancies     Glucose  BloodPressure  SkinThickness     Insulin  \\\n",
              "Outcome                                                                      \n",
              "0           3.298000  109.980000      70.844000      19.664000   68.792000   \n",
              "1           4.865672  141.257463      75.242537      22.164179  100.335821   \n",
              "\n",
              "               BMI  DiabetesPedigreeFunction        Age  \n",
              "Outcome                                                  \n",
              "0        30.304200                  0.429734  31.190000  \n",
              "1        35.142537                  0.550500  37.067164  "
            ]
          },
          "execution_count": 20,
          "metadata": {},
          "output_type": "execute_result"
        }
      ],
      "source": [
        "df.groupby('Outcome').mean()"
      ]
    },
    {
      "cell_type": "markdown",
      "metadata": {
        "id": "ZY3l0-AxO93d"
      },
      "source": [
        "---"
      ]
    },
    {
      "attachments": {},
      "cell_type": "markdown",
      "metadata": {
        "id": "uFQo3ycuO-v6"
      },
      "source": [
        "# Train Test Split"
      ]
    },
    {
      "attachments": {},
      "cell_type": "markdown",
      "metadata": {},
      "source": [
        "* We carried out this process in the previous notebook and pushed the datasets to our repo which have been loaded in above as x_train, x_test, y_train, y_test.\n",
        "\n",
        "* We are now ready to begin training the model in the next steps."
      ]
    },
    {
      "cell_type": "markdown",
      "metadata": {},
      "source": [
        "---"
      ]
    },
    {
      "attachments": {},
      "cell_type": "markdown",
      "metadata": {},
      "source": [
        "# Training the Model"
      ]
    },
    {
      "attachments": {},
      "cell_type": "markdown",
      "metadata": {},
      "source": [
        "* Now we will begin creating and training the model using the cleaned datasets.\n",
        "* we create an SVC classifier which is used to classify the dataset into classes."
      ]
    },
    {
      "cell_type": "code",
      "execution_count": 24,
      "metadata": {},
      "outputs": [
        {
          "data": {
            "text/plain": [
              "SVC(kernel='linear')"
            ]
          },
          "execution_count": 24,
          "metadata": {},
          "output_type": "execute_result"
        }
      ],
      "source": [
        "classifier = svm.SVC(kernel='linear')\n",
        "\n",
        "classifier.fit(x_train, y_train.values.ravel())"
      ]
    },
    {
      "cell_type": "markdown",
      "metadata": {},
      "source": [
        "NOTE"
      ]
    },
    {
      "cell_type": "markdown",
      "metadata": {},
      "source": [
        "* You may add as many sections as you want, as long as they support your project workflow.\n",
        "* All notebook's cells should be run top-down (you can't create a dynamic wherein a given point you need to go back to a previous cell to execute some task, like go back to a previous cell and refresh a variable content)"
      ]
    },
    {
      "cell_type": "markdown",
      "metadata": {},
      "source": [
        "---"
      ]
    },
    {
      "cell_type": "markdown",
      "metadata": {
        "id": "ltNetd085qHf"
      },
      "source": [
        "# Push files to Repo"
      ]
    },
    {
      "cell_type": "markdown",
      "metadata": {},
      "source": [
        "* If you do not need to push files to Repo, you may replace this section with \"Conclusions and Next Steps\" and state your conclusions and next steps."
      ]
    },
    {
      "cell_type": "code",
      "execution_count": null,
      "metadata": {
        "id": "aKlnIozA4eQO",
        "outputId": "fd09bc1f-adb1-4511-f6ce-492a6af570c0"
      },
      "outputs": [],
      "source": [
        "import os\n",
        "try:\n",
        "  # create here your folder\n",
        "  # os.makedirs(name='')\n",
        "except Exception as e:\n",
        "  print(e)\n"
      ]
    }
  ],
  "metadata": {
    "accelerator": "GPU",
    "colab": {
      "name": "Data Practitioner Jupyter Notebook.ipynb",
      "provenance": [],
      "toc_visible": true
    },
    "interpreter": {
      "hash": "8b8334dab9339717f727a1deaf837b322d7a41c20d15cc86be99a8e69ceec8ce"
    },
    "kernelspec": {
      "display_name": "Python 3.8.12 64-bit ('3.8.12': pyenv)",
      "name": "python3"
    },
    "language_info": {
      "codemirror_mode": {
        "name": "ipython",
        "version": 3
      },
      "file_extension": ".py",
      "mimetype": "text/x-python",
      "name": "python",
      "nbconvert_exporter": "python",
      "pygments_lexer": "ipython3",
      "version": "3.8.12"
    },
    "orig_nbformat": 2
  },
  "nbformat": 4,
  "nbformat_minor": 2
}
