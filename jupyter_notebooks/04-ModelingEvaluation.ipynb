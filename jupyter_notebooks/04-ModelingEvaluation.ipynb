{
  "cells": [
    {
      "attachments": {},
      "cell_type": "markdown",
      "metadata": {
        "id": "0aStgWSO0E0E"
      },
      "source": [
        "# **Predicting Outcome for Diabetes**"
      ]
    },
    {
      "attachments": {},
      "cell_type": "markdown",
      "metadata": {
        "id": "1eLEkw5O0ECa"
      },
      "source": [
        "## Objectives\n",
        "\n",
        "* To build a Support Vector Machine Learning model in order to predict whether a patient is Diabetic or Non-Diabetic.\n",
        "* Training the Machine Learning Model.\n",
        "* Evaluate the accuracy score of the Machine Learning model.\n",
        "* We will be answering Business Requirements 2 & 3:\n",
        "    * 2 - The client requires a machine learning tool that their healthcare practitioners can use to identify whether a patient has diabetes.\n",
        "    * 3 - The client expects an accuracy score of 75% or higher in predicting the outcome of diabetes.\n",
        "\n",
        "## Inputs\n",
        "\n",
        "* outputs/datasets/collection/diabetes.csv\n",
        "\n",
        "* outputs/datasets/cleaned/x_train_cleaned.csv\n",
        "* outputs/datasets/cleaned/x_test_cleaned.csv\n",
        "* outputs/datasets/cleaned/y_train_cleaned.csv\n",
        "* outputs/datasets/cleaned/y_test_cleaned.csv\n",
        "\n",
        "## Outputs\n",
        "\n",
        "* x_train dataset\n",
        "* y_train dataset\n",
        "* Support Vector Machine Pipeline\n",
        "\n",
        "## Additional Comments\n",
        "\n",
        "* This Notebook falls under the CRISP-DM of Modeling and Evaluation. There is also a small part Data preparation involved from previous notebook.\n",
        "* A Machine Learning Model will be created using a SVM model which we will then evaluate the accuracy score\n"
      ]
    },
    {
      "cell_type": "markdown",
      "metadata": {
        "id": "9uWZXH9LwoQg"
      },
      "source": [
        "---"
      ]
    },
    {
      "cell_type": "markdown",
      "metadata": {
        "id": "cqP-UeN-z3i2"
      },
      "source": [
        "# Change working directory"
      ]
    },
    {
      "attachments": {},
      "cell_type": "markdown",
      "metadata": {},
      "source": [
        "* As the notebooks are stored in the subfolder 'jupyter_notebooks' we therefore, when running the notebook in the editor, need to change the working directory."
      ]
    },
    {
      "cell_type": "markdown",
      "metadata": {
        "id": "aOGIGS-uz3i2"
      },
      "source": [
        "We need to change the working directory from its current folder to its parent folder\n",
        "* We access the current directory with os.getcwd()"
      ]
    },
    {
      "cell_type": "code",
      "execution_count": 1,
      "metadata": {
        "id": "wZfF_j-Bz3i4",
        "outputId": "66943449-1436-4c3d-85c7-b85f9f78349b"
      },
      "outputs": [
        {
          "data": {
            "text/plain": [
              "'/workspace/pp5-diabetes-prediction/jupyter_notebooks'"
            ]
          },
          "execution_count": 1,
          "metadata": {},
          "output_type": "execute_result"
        }
      ],
      "source": [
        "import os\n",
        "current_dir = os.getcwd()\n",
        "current_dir"
      ]
    },
    {
      "cell_type": "markdown",
      "metadata": {
        "id": "9MWW8E7lz3i7"
      },
      "source": [
        "We want to make the parent of the current directory the new current directory\n",
        "* os.path.dirname() gets the parent directory\n",
        "* os.chir() defines the new current directory"
      ]
    },
    {
      "cell_type": "code",
      "execution_count": 2,
      "metadata": {
        "id": "TwHsQRWjz3i9",
        "outputId": "86849db3-cd2f-4cc5-ebb8-2d0caafa1a2c"
      },
      "outputs": [
        {
          "name": "stdout",
          "output_type": "stream",
          "text": [
            "You set a new current directory\n"
          ]
        }
      ],
      "source": [
        "os.chdir(os.path.dirname(current_dir))\n",
        "print(\"You set a new current directory\")"
      ]
    },
    {
      "cell_type": "markdown",
      "metadata": {
        "id": "M_xPk_Ijz3i-"
      },
      "source": [
        "Confirm the new current directory"
      ]
    },
    {
      "cell_type": "code",
      "execution_count": 3,
      "metadata": {
        "id": "vz3S-_kjz3jA",
        "outputId": "00b79ae4-75d0-4a96-d193-ac9ef9847ea2"
      },
      "outputs": [
        {
          "data": {
            "text/plain": [
              "'/workspace/pp5-diabetes-prediction'"
            ]
          },
          "execution_count": 3,
          "metadata": {},
          "output_type": "execute_result"
        }
      ],
      "source": [
        "current_dir = os.getcwd()\n",
        "current_dir"
      ]
    },
    {
      "attachments": {},
      "cell_type": "markdown",
      "metadata": {},
      "source": [
        "# Importing the Libraries"
      ]
    },
    {
      "attachments": {},
      "cell_type": "markdown",
      "metadata": {},
      "source": [
        "* Here we import the libraries/dependencies that will be used for creation of the Machine Learning Model"
      ]
    },
    {
      "cell_type": "code",
      "execution_count": 4,
      "metadata": {},
      "outputs": [],
      "source": [
        "import pandas as pd\n",
        "import numpy as np\n",
        "import seaborn as sns\n",
        "import matplotlib.pyplot as plt\n",
        "\n",
        "from sklearn.preprocessing import StandardScaler\n",
        "from sklearn.model_selection import train_test_split\n",
        "from sklearn.metrics import accuracy_score\n",
        "from sklearn import svm\n",
        "\n",
        "%matplotlib inline"
      ]
    },
    {
      "attachments": {},
      "cell_type": "markdown",
      "metadata": {
        "id": "-mavJ8DibrcQ"
      },
      "source": [
        "# Loading the Datasets"
      ]
    },
    {
      "attachments": {},
      "cell_type": "markdown",
      "metadata": {},
      "source": [
        "* We will load the Diabetes Dataset along with the cleaned data from previous for use"
      ]
    },
    {
      "attachments": {},
      "cell_type": "markdown",
      "metadata": {},
      "source": [
        "#### Diabetes Source Dataset"
      ]
    },
    {
      "cell_type": "code",
      "execution_count": 5,
      "metadata": {},
      "outputs": [
        {
          "data": {
            "text/plain": [
              "(768, 9)"
            ]
          },
          "execution_count": 5,
          "metadata": {},
          "output_type": "execute_result"
        }
      ],
      "source": [
        "import pandas as pd\n",
        "\n",
        "df = pd.read_csv(f\"outputs/datasets/collection/diabetes.csv\")\n",
        "df.head(15)\n",
        "df.shape"
      ]
    },
    {
      "attachments": {},
      "cell_type": "markdown",
      "metadata": {},
      "source": [
        "#### Cleaned Train Datasets"
      ]
    },
    {
      "cell_type": "code",
      "execution_count": 6,
      "metadata": {},
      "outputs": [
        {
          "data": {
            "text/html": [
              "<div>\n",
              "<style scoped>\n",
              "    .dataframe tbody tr th:only-of-type {\n",
              "        vertical-align: middle;\n",
              "    }\n",
              "\n",
              "    .dataframe tbody tr th {\n",
              "        vertical-align: top;\n",
              "    }\n",
              "\n",
              "    .dataframe thead th {\n",
              "        text-align: right;\n",
              "    }\n",
              "</style>\n",
              "<table border=\"1\" class=\"dataframe\">\n",
              "  <thead>\n",
              "    <tr style=\"text-align: right;\">\n",
              "      <th></th>\n",
              "      <th>Pregnancies</th>\n",
              "      <th>Glucose</th>\n",
              "      <th>BloodPressure</th>\n",
              "      <th>SkinThickness</th>\n",
              "      <th>Insulin</th>\n",
              "      <th>BMI</th>\n",
              "      <th>DiabetesPedigreeFunction</th>\n",
              "      <th>Age</th>\n",
              "    </tr>\n",
              "  </thead>\n",
              "  <tbody>\n",
              "    <tr>\n",
              "      <th>0</th>\n",
              "      <td>-1.141852</td>\n",
              "      <td>-0.087934</td>\n",
              "      <td>0.134013</td>\n",
              "      <td>-0.046266</td>\n",
              "      <td>-0.849452</td>\n",
              "      <td>-0.004933</td>\n",
              "      <td>-0.999286</td>\n",
              "      <td>-0.786286</td>\n",
              "    </tr>\n",
              "    <tr>\n",
              "      <th>1</th>\n",
              "      <td>0.639947</td>\n",
              "      <td>-0.547790</td>\n",
              "      <td>-0.196660</td>\n",
              "      <td>0.490480</td>\n",
              "      <td>-0.220117</td>\n",
              "      <td>-0.237620</td>\n",
              "      <td>-1.056668</td>\n",
              "      <td>0.319855</td>\n",
              "    </tr>\n",
              "    <tr>\n",
              "      <th>2</th>\n",
              "      <td>-0.844885</td>\n",
              "      <td>2.211346</td>\n",
              "      <td>-1.023342</td>\n",
              "      <td>-0.475663</td>\n",
              "      <td>6.980205</td>\n",
              "      <td>-0.339421</td>\n",
              "      <td>-0.223115</td>\n",
              "      <td>2.191785</td>\n",
              "    </tr>\n",
              "    <tr>\n",
              "      <th>3</th>\n",
              "      <td>-0.547919</td>\n",
              "      <td>-0.547790</td>\n",
              "      <td>0.630022</td>\n",
              "      <td>1.886020</td>\n",
              "      <td>0.918237</td>\n",
              "      <td>0.184126</td>\n",
              "      <td>0.722182</td>\n",
              "      <td>-0.360847</td>\n",
              "    </tr>\n",
              "    <tr>\n",
              "      <th>4</th>\n",
              "      <td>-1.141852</td>\n",
              "      <td>1.915724</td>\n",
              "      <td>-0.527333</td>\n",
              "      <td>1.241924</td>\n",
              "      <td>-0.849452</td>\n",
              "      <td>1.391191</td>\n",
              "      <td>4.291962</td>\n",
              "      <td>-0.701198</td>\n",
              "    </tr>\n",
              "    <tr>\n",
              "      <th>5</th>\n",
              "      <td>-0.547919</td>\n",
              "      <td>0.207688</td>\n",
              "      <td>0.464686</td>\n",
              "      <td>1.027226</td>\n",
              "      <td>0.834943</td>\n",
              "      <td>1.580249</td>\n",
              "      <td>2.271503</td>\n",
              "      <td>-0.190672</td>\n",
              "    </tr>\n",
              "    <tr>\n",
              "      <th>6</th>\n",
              "      <td>-0.547919</td>\n",
              "      <td>0.010607</td>\n",
              "      <td>-0.196660</td>\n",
              "      <td>-0.046266</td>\n",
              "      <td>-0.488510</td>\n",
              "      <td>0.634957</td>\n",
              "      <td>-0.398282</td>\n",
              "      <td>-0.531023</td>\n",
              "    </tr>\n",
              "    <tr>\n",
              "      <th>7</th>\n",
              "      <td>1.233880</td>\n",
              "      <td>-0.055087</td>\n",
              "      <td>0.134013</td>\n",
              "      <td>-0.046266</td>\n",
              "      <td>-0.849452</td>\n",
              "      <td>-0.353964</td>\n",
              "      <td>-0.872441</td>\n",
              "      <td>0.404942</td>\n",
              "    </tr>\n",
              "    <tr>\n",
              "      <th>8</th>\n",
              "      <td>1.233880</td>\n",
              "      <td>-1.007646</td>\n",
              "      <td>0.795359</td>\n",
              "      <td>-0.690362</td>\n",
              "      <td>-0.488510</td>\n",
              "      <td>0.460442</td>\n",
              "      <td>0.347687</td>\n",
              "      <td>2.957575</td>\n",
              "    </tr>\n",
              "    <tr>\n",
              "      <th>9</th>\n",
              "      <td>-0.547919</td>\n",
              "      <td>-0.777718</td>\n",
              "      <td>-1.023342</td>\n",
              "      <td>-1.119759</td>\n",
              "      <td>0.261138</td>\n",
              "      <td>0.329555</td>\n",
              "      <td>-0.827139</td>\n",
              "      <td>-0.956462</td>\n",
              "    </tr>\n",
              "    <tr>\n",
              "      <th>10</th>\n",
              "      <td>2.124780</td>\n",
              "      <td>0.437616</td>\n",
              "      <td>0.134013</td>\n",
              "      <td>-0.046266</td>\n",
              "      <td>-0.849452</td>\n",
              "      <td>2.889115</td>\n",
              "      <td>0.320506</td>\n",
              "      <td>0.575118</td>\n",
              "    </tr>\n",
              "    <tr>\n",
              "      <th>11</th>\n",
              "      <td>-0.844885</td>\n",
              "      <td>-1.106186</td>\n",
              "      <td>-3.503388</td>\n",
              "      <td>1.563972</td>\n",
              "      <td>0.066785</td>\n",
              "      <td>3.281774</td>\n",
              "      <td>0.072856</td>\n",
              "      <td>-0.616111</td>\n",
              "    </tr>\n",
              "    <tr>\n",
              "      <th>12</th>\n",
              "      <td>1.530847</td>\n",
              "      <td>0.043454</td>\n",
              "      <td>-0.196660</td>\n",
              "      <td>1.778671</td>\n",
              "      <td>0.020510</td>\n",
              "      <td>0.096868</td>\n",
              "      <td>-0.295598</td>\n",
              "      <td>0.575118</td>\n",
              "    </tr>\n",
              "    <tr>\n",
              "      <th>13</th>\n",
              "      <td>-0.844885</td>\n",
              "      <td>0.207688</td>\n",
              "      <td>0.795359</td>\n",
              "      <td>-1.119759</td>\n",
              "      <td>0.844197</td>\n",
              "      <td>-0.717538</td>\n",
              "      <td>-1.077809</td>\n",
              "      <td>-0.956462</td>\n",
              "    </tr>\n",
              "    <tr>\n",
              "      <th>14</th>\n",
              "      <td>-0.547919</td>\n",
              "      <td>0.240535</td>\n",
              "      <td>0.134013</td>\n",
              "      <td>-0.153616</td>\n",
              "      <td>1.047806</td>\n",
              "      <td>0.111411</td>\n",
              "      <td>0.359768</td>\n",
              "      <td>-0.701198</td>\n",
              "    </tr>\n",
              "  </tbody>\n",
              "</table>\n",
              "</div>"
            ],
            "text/plain": [
              "    Pregnancies   Glucose  BloodPressure  SkinThickness   Insulin       BMI  \\\n",
              "0     -1.141852 -0.087934       0.134013      -0.046266 -0.849452 -0.004933   \n",
              "1      0.639947 -0.547790      -0.196660       0.490480 -0.220117 -0.237620   \n",
              "2     -0.844885  2.211346      -1.023342      -0.475663  6.980205 -0.339421   \n",
              "3     -0.547919 -0.547790       0.630022       1.886020  0.918237  0.184126   \n",
              "4     -1.141852  1.915724      -0.527333       1.241924 -0.849452  1.391191   \n",
              "5     -0.547919  0.207688       0.464686       1.027226  0.834943  1.580249   \n",
              "6     -0.547919  0.010607      -0.196660      -0.046266 -0.488510  0.634957   \n",
              "7      1.233880 -0.055087       0.134013      -0.046266 -0.849452 -0.353964   \n",
              "8      1.233880 -1.007646       0.795359      -0.690362 -0.488510  0.460442   \n",
              "9     -0.547919 -0.777718      -1.023342      -1.119759  0.261138  0.329555   \n",
              "10     2.124780  0.437616       0.134013      -0.046266 -0.849452  2.889115   \n",
              "11    -0.844885 -1.106186      -3.503388       1.563972  0.066785  3.281774   \n",
              "12     1.530847  0.043454      -0.196660       1.778671  0.020510  0.096868   \n",
              "13    -0.844885  0.207688       0.795359      -1.119759  0.844197 -0.717538   \n",
              "14    -0.547919  0.240535       0.134013      -0.153616  1.047806  0.111411   \n",
              "\n",
              "    DiabetesPedigreeFunction       Age  \n",
              "0                  -0.999286 -0.786286  \n",
              "1                  -1.056668  0.319855  \n",
              "2                  -0.223115  2.191785  \n",
              "3                   0.722182 -0.360847  \n",
              "4                   4.291962 -0.701198  \n",
              "5                   2.271503 -0.190672  \n",
              "6                  -0.398282 -0.531023  \n",
              "7                  -0.872441  0.404942  \n",
              "8                   0.347687  2.957575  \n",
              "9                  -0.827139 -0.956462  \n",
              "10                  0.320506  0.575118  \n",
              "11                  0.072856 -0.616111  \n",
              "12                 -0.295598  0.575118  \n",
              "13                 -1.077809 -0.956462  \n",
              "14                  0.359768 -0.701198  "
            ]
          },
          "execution_count": 6,
          "metadata": {},
          "output_type": "execute_result"
        }
      ],
      "source": [
        "x_train_path = \"outputs/datasets/cleaned/x_train_cleaned.csv\"\n",
        "x_train = pd.read_csv(x_train_path)\n",
        "\n",
        "x_train.head(15)"
      ]
    },
    {
      "cell_type": "code",
      "execution_count": 7,
      "metadata": {},
      "outputs": [
        {
          "data": {
            "text/html": [
              "<div>\n",
              "<style scoped>\n",
              "    .dataframe tbody tr th:only-of-type {\n",
              "        vertical-align: middle;\n",
              "    }\n",
              "\n",
              "    .dataframe tbody tr th {\n",
              "        vertical-align: top;\n",
              "    }\n",
              "\n",
              "    .dataframe thead th {\n",
              "        text-align: right;\n",
              "    }\n",
              "</style>\n",
              "<table border=\"1\" class=\"dataframe\">\n",
              "  <thead>\n",
              "    <tr style=\"text-align: right;\">\n",
              "      <th></th>\n",
              "      <th>Outcome</th>\n",
              "    </tr>\n",
              "  </thead>\n",
              "  <tbody>\n",
              "    <tr>\n",
              "      <th>0</th>\n",
              "      <td>1</td>\n",
              "    </tr>\n",
              "    <tr>\n",
              "      <th>1</th>\n",
              "      <td>0</td>\n",
              "    </tr>\n",
              "    <tr>\n",
              "      <th>2</th>\n",
              "      <td>1</td>\n",
              "    </tr>\n",
              "    <tr>\n",
              "      <th>3</th>\n",
              "      <td>1</td>\n",
              "    </tr>\n",
              "    <tr>\n",
              "      <th>4</th>\n",
              "      <td>1</td>\n",
              "    </tr>\n",
              "  </tbody>\n",
              "</table>\n",
              "</div>"
            ],
            "text/plain": [
              "   Outcome\n",
              "0        1\n",
              "1        0\n",
              "2        1\n",
              "3        1\n",
              "4        1"
            ]
          },
          "execution_count": 7,
          "metadata": {},
          "output_type": "execute_result"
        }
      ],
      "source": [
        "y_train_path = \"outputs/datasets/cleaned/y_train_cleaned.csv\"\n",
        "y_train = pd.read_csv(y_train_path)\n",
        "\n",
        "y_train.head(5)"
      ]
    },
    {
      "attachments": {},
      "cell_type": "markdown",
      "metadata": {},
      "source": [
        "#### Cleaned Test Datasets"
      ]
    },
    {
      "cell_type": "code",
      "execution_count": 8,
      "metadata": {},
      "outputs": [
        {
          "data": {
            "text/html": [
              "<div>\n",
              "<style scoped>\n",
              "    .dataframe tbody tr th:only-of-type {\n",
              "        vertical-align: middle;\n",
              "    }\n",
              "\n",
              "    .dataframe tbody tr th {\n",
              "        vertical-align: top;\n",
              "    }\n",
              "\n",
              "    .dataframe thead th {\n",
              "        text-align: right;\n",
              "    }\n",
              "</style>\n",
              "<table border=\"1\" class=\"dataframe\">\n",
              "  <thead>\n",
              "    <tr style=\"text-align: right;\">\n",
              "      <th></th>\n",
              "      <th>Pregnancies</th>\n",
              "      <th>Glucose</th>\n",
              "      <th>BloodPressure</th>\n",
              "      <th>SkinThickness</th>\n",
              "      <th>Insulin</th>\n",
              "      <th>BMI</th>\n",
              "      <th>DiabetesPedigreeFunction</th>\n",
              "      <th>Age</th>\n",
              "    </tr>\n",
              "  </thead>\n",
              "  <tbody>\n",
              "    <tr>\n",
              "      <th>0</th>\n",
              "      <td>-0.250952</td>\n",
              "      <td>-0.514943</td>\n",
              "      <td>-0.031324</td>\n",
              "      <td>-0.690362</td>\n",
              "      <td>-0.488510</td>\n",
              "      <td>-0.964768</td>\n",
              "      <td>-0.799958</td>\n",
              "      <td>-0.531023</td>\n",
              "    </tr>\n",
              "    <tr>\n",
              "      <th>1</th>\n",
              "      <td>-0.250952</td>\n",
              "      <td>-0.285015</td>\n",
              "      <td>-2.346033</td>\n",
              "      <td>-1.549156</td>\n",
              "      <td>-0.488510</td>\n",
              "      <td>-1.459228</td>\n",
              "      <td>-1.002306</td>\n",
              "      <td>-0.956462</td>\n",
              "    </tr>\n",
              "    <tr>\n",
              "      <th>2</th>\n",
              "      <td>0.342981</td>\n",
              "      <td>0.831778</td>\n",
              "      <td>0.464686</td>\n",
              "      <td>-0.690362</td>\n",
              "      <td>-0.488510</td>\n",
              "      <td>0.184126</td>\n",
              "      <td>-0.766737</td>\n",
              "      <td>2.702312</td>\n",
              "    </tr>\n",
              "    <tr>\n",
              "      <th>3</th>\n",
              "      <td>-0.250952</td>\n",
              "      <td>1.587256</td>\n",
              "      <td>-0.692669</td>\n",
              "      <td>1.027226</td>\n",
              "      <td>1.232904</td>\n",
              "      <td>0.300469</td>\n",
              "      <td>-0.349960</td>\n",
              "      <td>-0.275760</td>\n",
              "    </tr>\n",
              "    <tr>\n",
              "      <th>4</th>\n",
              "      <td>-0.250952</td>\n",
              "      <td>-1.237573</td>\n",
              "      <td>-0.031324</td>\n",
              "      <td>0.490480</td>\n",
              "      <td>-0.488510</td>\n",
              "      <td>0.693129</td>\n",
              "      <td>-0.618751</td>\n",
              "      <td>-0.445935</td>\n",
              "    </tr>\n",
              "    <tr>\n",
              "      <th>5</th>\n",
              "      <td>-0.844885</td>\n",
              "      <td>-1.139033</td>\n",
              "      <td>-1.023342</td>\n",
              "      <td>1.027226</td>\n",
              "      <td>-0.155333</td>\n",
              "      <td>0.693129</td>\n",
              "      <td>0.112118</td>\n",
              "      <td>-0.956462</td>\n",
              "    </tr>\n",
              "    <tr>\n",
              "      <th>6</th>\n",
              "      <td>-1.141852</td>\n",
              "      <td>0.569003</td>\n",
              "      <td>-0.858006</td>\n",
              "      <td>-1.119759</td>\n",
              "      <td>1.094080</td>\n",
              "      <td>-1.502857</td>\n",
              "      <td>-0.799958</td>\n",
              "      <td>-1.041549</td>\n",
              "    </tr>\n",
              "    <tr>\n",
              "      <th>7</th>\n",
              "      <td>2.718712</td>\n",
              "      <td>0.240535</td>\n",
              "      <td>0.134013</td>\n",
              "      <td>0.275781</td>\n",
              "      <td>-0.849452</td>\n",
              "      <td>1.085789</td>\n",
              "      <td>0.293325</td>\n",
              "      <td>0.915469</td>\n",
              "    </tr>\n",
              "    <tr>\n",
              "      <th>8</th>\n",
              "      <td>0.639947</td>\n",
              "      <td>-0.777718</td>\n",
              "      <td>-1.188678</td>\n",
              "      <td>0.597829</td>\n",
              "      <td>0.908982</td>\n",
              "      <td>0.227754</td>\n",
              "      <td>-0.126471</td>\n",
              "      <td>0.830381</td>\n",
              "    </tr>\n",
              "    <tr>\n",
              "      <th>9</th>\n",
              "      <td>0.639947</td>\n",
              "      <td>0.404769</td>\n",
              "      <td>-0.196660</td>\n",
              "      <td>-0.475663</td>\n",
              "      <td>0.353687</td>\n",
              "      <td>0.431356</td>\n",
              "      <td>0.211782</td>\n",
              "      <td>-0.360847</td>\n",
              "    </tr>\n",
              "    <tr>\n",
              "      <th>10</th>\n",
              "      <td>0.342981</td>\n",
              "      <td>2.145652</td>\n",
              "      <td>0.299349</td>\n",
              "      <td>-0.046266</td>\n",
              "      <td>1.066315</td>\n",
              "      <td>1.623878</td>\n",
              "      <td>1.697680</td>\n",
              "      <td>1.681259</td>\n",
              "    </tr>\n",
              "    <tr>\n",
              "      <th>11</th>\n",
              "      <td>1.233880</td>\n",
              "      <td>-0.876258</td>\n",
              "      <td>-0.031324</td>\n",
              "      <td>-0.690362</td>\n",
              "      <td>-0.488510</td>\n",
              "      <td>0.634957</td>\n",
              "      <td>0.039635</td>\n",
              "      <td>2.021610</td>\n",
              "    </tr>\n",
              "    <tr>\n",
              "      <th>12</th>\n",
              "      <td>0.342981</td>\n",
              "      <td>-0.810564</td>\n",
              "      <td>0.299349</td>\n",
              "      <td>-0.046266</td>\n",
              "      <td>-0.849452</td>\n",
              "      <td>0.460442</td>\n",
              "      <td>-0.283518</td>\n",
              "      <td>1.596171</td>\n",
              "    </tr>\n",
              "    <tr>\n",
              "      <th>13</th>\n",
              "      <td>0.936914</td>\n",
              "      <td>0.371922</td>\n",
              "      <td>0.960695</td>\n",
              "      <td>-0.690362</td>\n",
              "      <td>-0.488510</td>\n",
              "      <td>1.129417</td>\n",
              "      <td>0.676880</td>\n",
              "      <td>0.319855</td>\n",
              "    </tr>\n",
              "    <tr>\n",
              "      <th>14</th>\n",
              "      <td>0.046014</td>\n",
              "      <td>0.339075</td>\n",
              "      <td>1.126031</td>\n",
              "      <td>0.383131</td>\n",
              "      <td>-0.488510</td>\n",
              "      <td>-0.644823</td>\n",
              "      <td>-0.159693</td>\n",
              "      <td>2.532136</td>\n",
              "    </tr>\n",
              "  </tbody>\n",
              "</table>\n",
              "</div>"
            ],
            "text/plain": [
              "    Pregnancies   Glucose  BloodPressure  SkinThickness   Insulin       BMI  \\\n",
              "0     -0.250952 -0.514943      -0.031324      -0.690362 -0.488510 -0.964768   \n",
              "1     -0.250952 -0.285015      -2.346033      -1.549156 -0.488510 -1.459228   \n",
              "2      0.342981  0.831778       0.464686      -0.690362 -0.488510  0.184126   \n",
              "3     -0.250952  1.587256      -0.692669       1.027226  1.232904  0.300469   \n",
              "4     -0.250952 -1.237573      -0.031324       0.490480 -0.488510  0.693129   \n",
              "5     -0.844885 -1.139033      -1.023342       1.027226 -0.155333  0.693129   \n",
              "6     -1.141852  0.569003      -0.858006      -1.119759  1.094080 -1.502857   \n",
              "7      2.718712  0.240535       0.134013       0.275781 -0.849452  1.085789   \n",
              "8      0.639947 -0.777718      -1.188678       0.597829  0.908982  0.227754   \n",
              "9      0.639947  0.404769      -0.196660      -0.475663  0.353687  0.431356   \n",
              "10     0.342981  2.145652       0.299349      -0.046266  1.066315  1.623878   \n",
              "11     1.233880 -0.876258      -0.031324      -0.690362 -0.488510  0.634957   \n",
              "12     0.342981 -0.810564       0.299349      -0.046266 -0.849452  0.460442   \n",
              "13     0.936914  0.371922       0.960695      -0.690362 -0.488510  1.129417   \n",
              "14     0.046014  0.339075       1.126031       0.383131 -0.488510 -0.644823   \n",
              "\n",
              "    DiabetesPedigreeFunction       Age  \n",
              "0                  -0.799958 -0.531023  \n",
              "1                  -1.002306 -0.956462  \n",
              "2                  -0.766737  2.702312  \n",
              "3                  -0.349960 -0.275760  \n",
              "4                  -0.618751 -0.445935  \n",
              "5                   0.112118 -0.956462  \n",
              "6                  -0.799958 -1.041549  \n",
              "7                   0.293325  0.915469  \n",
              "8                  -0.126471  0.830381  \n",
              "9                   0.211782 -0.360847  \n",
              "10                  1.697680  1.681259  \n",
              "11                  0.039635  2.021610  \n",
              "12                 -0.283518  1.596171  \n",
              "13                  0.676880  0.319855  \n",
              "14                 -0.159693  2.532136  "
            ]
          },
          "execution_count": 8,
          "metadata": {},
          "output_type": "execute_result"
        }
      ],
      "source": [
        "x_test_path = \"outputs/datasets/cleaned/x_test_cleaned.csv\"\n",
        "x_test = pd.read_csv(x_test_path)\n",
        "\n",
        "x_test.head(15)"
      ]
    },
    {
      "cell_type": "code",
      "execution_count": 9,
      "metadata": {},
      "outputs": [
        {
          "data": {
            "text/html": [
              "<div>\n",
              "<style scoped>\n",
              "    .dataframe tbody tr th:only-of-type {\n",
              "        vertical-align: middle;\n",
              "    }\n",
              "\n",
              "    .dataframe tbody tr th {\n",
              "        vertical-align: top;\n",
              "    }\n",
              "\n",
              "    .dataframe thead th {\n",
              "        text-align: right;\n",
              "    }\n",
              "</style>\n",
              "<table border=\"1\" class=\"dataframe\">\n",
              "  <thead>\n",
              "    <tr style=\"text-align: right;\">\n",
              "      <th></th>\n",
              "      <th>Outcome</th>\n",
              "    </tr>\n",
              "  </thead>\n",
              "  <tbody>\n",
              "    <tr>\n",
              "      <th>0</th>\n",
              "      <td>0</td>\n",
              "    </tr>\n",
              "    <tr>\n",
              "      <th>1</th>\n",
              "      <td>0</td>\n",
              "    </tr>\n",
              "    <tr>\n",
              "      <th>2</th>\n",
              "      <td>0</td>\n",
              "    </tr>\n",
              "    <tr>\n",
              "      <th>3</th>\n",
              "      <td>1</td>\n",
              "    </tr>\n",
              "    <tr>\n",
              "      <th>4</th>\n",
              "      <td>0</td>\n",
              "    </tr>\n",
              "  </tbody>\n",
              "</table>\n",
              "</div>"
            ],
            "text/plain": [
              "   Outcome\n",
              "0        0\n",
              "1        0\n",
              "2        0\n",
              "3        1\n",
              "4        0"
            ]
          },
          "execution_count": 9,
          "metadata": {},
          "output_type": "execute_result"
        }
      ],
      "source": [
        "y_test_path = \"outputs/datasets/cleaned/y_test_cleaned.csv\"\n",
        "y_test = pd.read_csv(y_test_path)\n",
        "\n",
        "y_test.head(5)"
      ]
    },
    {
      "attachments": {},
      "cell_type": "markdown",
      "metadata": {},
      "source": [
        "Dataset shape"
      ]
    },
    {
      "cell_type": "code",
      "execution_count": 10,
      "metadata": {},
      "outputs": [
        {
          "name": "stdout",
          "output_type": "stream",
          "text": [
            "(768, 9) (614, 8) (154, 8)\n"
          ]
        }
      ],
      "source": [
        "print(df.shape, x_train.shape, x_test.shape)"
      ]
    },
    {
      "attachments": {},
      "cell_type": "markdown",
      "metadata": {},
      "source": [
        "Double checking the mean of variables for diabetic and non-diabetic"
      ]
    },
    {
      "cell_type": "code",
      "execution_count": 11,
      "metadata": {},
      "outputs": [
        {
          "data": {
            "text/html": [
              "<div>\n",
              "<style scoped>\n",
              "    .dataframe tbody tr th:only-of-type {\n",
              "        vertical-align: middle;\n",
              "    }\n",
              "\n",
              "    .dataframe tbody tr th {\n",
              "        vertical-align: top;\n",
              "    }\n",
              "\n",
              "    .dataframe thead th {\n",
              "        text-align: right;\n",
              "    }\n",
              "</style>\n",
              "<table border=\"1\" class=\"dataframe\">\n",
              "  <thead>\n",
              "    <tr style=\"text-align: right;\">\n",
              "      <th></th>\n",
              "      <th>Pregnancies</th>\n",
              "      <th>Glucose</th>\n",
              "      <th>BloodPressure</th>\n",
              "      <th>SkinThickness</th>\n",
              "      <th>Insulin</th>\n",
              "      <th>BMI</th>\n",
              "      <th>DiabetesPedigreeFunction</th>\n",
              "      <th>Age</th>\n",
              "    </tr>\n",
              "    <tr>\n",
              "      <th>Outcome</th>\n",
              "      <th></th>\n",
              "      <th></th>\n",
              "      <th></th>\n",
              "      <th></th>\n",
              "      <th></th>\n",
              "      <th></th>\n",
              "      <th></th>\n",
              "      <th></th>\n",
              "    </tr>\n",
              "  </thead>\n",
              "  <tbody>\n",
              "    <tr>\n",
              "      <th>0</th>\n",
              "      <td>3.298000</td>\n",
              "      <td>109.980000</td>\n",
              "      <td>68.184000</td>\n",
              "      <td>19.664000</td>\n",
              "      <td>68.792000</td>\n",
              "      <td>30.304200</td>\n",
              "      <td>0.429734</td>\n",
              "      <td>31.190000</td>\n",
              "    </tr>\n",
              "    <tr>\n",
              "      <th>1</th>\n",
              "      <td>4.865672</td>\n",
              "      <td>141.257463</td>\n",
              "      <td>70.824627</td>\n",
              "      <td>22.164179</td>\n",
              "      <td>100.335821</td>\n",
              "      <td>35.142537</td>\n",
              "      <td>0.550500</td>\n",
              "      <td>37.067164</td>\n",
              "    </tr>\n",
              "  </tbody>\n",
              "</table>\n",
              "</div>"
            ],
            "text/plain": [
              "         Pregnancies     Glucose  BloodPressure  SkinThickness     Insulin  \\\n",
              "Outcome                                                                      \n",
              "0           3.298000  109.980000      68.184000      19.664000   68.792000   \n",
              "1           4.865672  141.257463      70.824627      22.164179  100.335821   \n",
              "\n",
              "               BMI  DiabetesPedigreeFunction        Age  \n",
              "Outcome                                                  \n",
              "0        30.304200                  0.429734  31.190000  \n",
              "1        35.142537                  0.550500  37.067164  "
            ]
          },
          "execution_count": 11,
          "metadata": {},
          "output_type": "execute_result"
        }
      ],
      "source": [
        "df.groupby('Outcome').mean()"
      ]
    },
    {
      "cell_type": "markdown",
      "metadata": {
        "id": "ZY3l0-AxO93d"
      },
      "source": [
        "---"
      ]
    },
    {
      "attachments": {},
      "cell_type": "markdown",
      "metadata": {
        "id": "uFQo3ycuO-v6"
      },
      "source": [
        "# Train Test Split"
      ]
    },
    {
      "attachments": {},
      "cell_type": "markdown",
      "metadata": {},
      "source": [
        "* We carried out this process in the previous notebook and pushed the datasets to our repo which have been loaded in above as x_train, x_test, y_train, y_test.\n",
        "\n",
        "* We are now ready to begin training the model in the next steps."
      ]
    },
    {
      "cell_type": "markdown",
      "metadata": {},
      "source": [
        "---"
      ]
    },
    {
      "attachments": {},
      "cell_type": "markdown",
      "metadata": {},
      "source": [
        "# Creating the Model"
      ]
    },
    {
      "attachments": {},
      "cell_type": "markdown",
      "metadata": {},
      "source": [
        "* We will now need to create the pipeline for the Support Vector Machine model which we will be training and using to predict the Outcome of Diabetes."
      ]
    },
    {
      "cell_type": "code",
      "execution_count": null,
      "metadata": {},
      "outputs": [],
      "source": [
        "# Support Vector Machine pipeline for predicting output of Diabetes\n",
        "class SVM_pipeline():\n",
        "\n",
        "    # Initiates the hyperparameters\n",
        "    def __init__(self, tuning_parameter, iteration_no, lambda_parameter):\n",
        "        self.tuning_parameter = tuning_parameter\n",
        "        self.iteration_no = iteration_no\n",
        "        self.lambda_parameter = lambda_parameter"
      ]
    },
    {
      "attachments": {},
      "cell_type": "markdown",
      "metadata": {},
      "source": [
        "# Training the Model"
      ]
    },
    {
      "attachments": {},
      "cell_type": "markdown",
      "metadata": {},
      "source": [
        "* Now we will begin creating and training the model using the cleaned datasets.\n",
        "* We create an SVC classifier which is used to classify the dataset into classes."
      ]
    },
    {
      "cell_type": "code",
      "execution_count": 12,
      "metadata": {},
      "outputs": [
        {
          "data": {
            "text/plain": [
              "SVC(kernel='linear')"
            ]
          },
          "execution_count": 12,
          "metadata": {},
          "output_type": "execute_result"
        }
      ],
      "source": [
        "classifier = svm.SVC(kernel='linear')\n",
        "\n",
        "classifier.fit(x_train, y_train.values.ravel())"
      ]
    },
    {
      "attachments": {},
      "cell_type": "markdown",
      "metadata": {},
      "source": [
        "## Evaluating the Model"
      ]
    },
    {
      "cell_type": "code",
      "execution_count": 13,
      "metadata": {},
      "outputs": [],
      "source": [
        "x_train_predict = classifier.predict(x_train)\n",
        "x_test_predict = classifier.predict(x_test)"
      ]
    },
    {
      "attachments": {},
      "cell_type": "markdown",
      "metadata": {},
      "source": [
        "#### Train Set Accuracy Score"
      ]
    },
    {
      "attachments": {},
      "cell_type": "markdown",
      "metadata": {},
      "source": [
        "* Now we will gather an accuracy score for the training data."
      ]
    },
    {
      "cell_type": "code",
      "execution_count": 14,
      "metadata": {},
      "outputs": [
        {
          "name": "stdout",
          "output_type": "stream",
          "text": [
            "Train dataset Accuracy Score:  0.7915309446254072\n"
          ]
        }
      ],
      "source": [
        "train_accuracy = accuracy_score(x_train_predict, y_train)\n",
        "print('Train dataset Accuracy Score: ', train_accuracy)"
      ]
    },
    {
      "attachments": {},
      "cell_type": "markdown",
      "metadata": {},
      "source": [
        "* As we can see the Accuracy score is showing at 0.7915 which is above the Business Requirement 3 of needing a score of at least 0.75. If the score was below this then it would be deemed a fail. However, as we are above the 0.75 minimum requirement this can be considered a success."
      ]
    },
    {
      "attachments": {},
      "cell_type": "markdown",
      "metadata": {},
      "source": [
        "#### Test Set Accuracy Score"
      ]
    },
    {
      "cell_type": "code",
      "execution_count": 15,
      "metadata": {},
      "outputs": [
        {
          "name": "stdout",
          "output_type": "stream",
          "text": [
            "Test dataset Accuracy Score:  0.7532467532467533\n"
          ]
        }
      ],
      "source": [
        "test_accuracy = accuracy_score(x_test_predict, y_test)\n",
        "print('Test dataset Accuracy Score: ', test_accuracy)"
      ]
    },
    {
      "attachments": {},
      "cell_type": "markdown",
      "metadata": {},
      "source": [
        "* As we can see the Accuracy score is showing at 0.7532 which is just above the Business Requirement 3 of needing a score of at least 0.75. If the score was below this then it would be deemed a fail. However, as we have met the 0.75 minimum requirement this can be considered a success.\n",
        "\n",
        "* As the training and test data has output similar Accuracy Scores it is a good indication that the model is not overtrained. If the accuracy score was high in the training data and the test data was low then this would be a signal that the model is overfitted.\n",
        "\n",
        "* Unfortunately one of the limitations we have is due to the low size of the dataset, it is difficult to get a high accuracy as there isn't a lot of training data for the model to then use with the test data."
      ]
    },
    {
      "cell_type": "markdown",
      "metadata": {},
      "source": [
        "NOTE"
      ]
    },
    {
      "cell_type": "markdown",
      "metadata": {},
      "source": [
        "* You may add as many sections as you want, as long as they support your project workflow.\n",
        "* All notebook's cells should be run top-down (you can't create a dynamic wherein a given point you need to go back to a previous cell to execute some task, like go back to a previous cell and refresh a variable content)"
      ]
    },
    {
      "cell_type": "markdown",
      "metadata": {},
      "source": [
        "---"
      ]
    },
    {
      "cell_type": "markdown",
      "metadata": {
        "id": "ltNetd085qHf"
      },
      "source": [
        "# Push files to Repo"
      ]
    },
    {
      "cell_type": "markdown",
      "metadata": {},
      "source": [
        "* If you do not need to push files to Repo, you may replace this section with \"Conclusions and Next Steps\" and state your conclusions and next steps."
      ]
    },
    {
      "cell_type": "code",
      "execution_count": 16,
      "metadata": {
        "id": "aKlnIozA4eQO",
        "outputId": "fd09bc1f-adb1-4511-f6ce-492a6af570c0"
      },
      "outputs": [
        {
          "ename": "IndentationError",
          "evalue": "expected an indented block (2852421808.py, line 5)",
          "output_type": "error",
          "traceback": [
            "\u001b[0;36m  Cell \u001b[0;32mIn[16], line 5\u001b[0;36m\u001b[0m\n\u001b[0;31m    except Exception as e:\u001b[0m\n\u001b[0m    ^\u001b[0m\n\u001b[0;31mIndentationError\u001b[0m\u001b[0;31m:\u001b[0m expected an indented block\n"
          ]
        }
      ],
      "source": [
        "import os\n",
        "try:\n",
        "  # create here your folder\n",
        "  # os.makedirs(name='')\n",
        "except Exception as e:\n",
        "  print(e)\n"
      ]
    }
  ],
  "metadata": {
    "accelerator": "GPU",
    "colab": {
      "name": "Data Practitioner Jupyter Notebook.ipynb",
      "provenance": [],
      "toc_visible": true
    },
    "interpreter": {
      "hash": "8b8334dab9339717f727a1deaf837b322d7a41c20d15cc86be99a8e69ceec8ce"
    },
    "kernelspec": {
      "display_name": "Python 3.8.12 64-bit ('3.8.12': pyenv)",
      "name": "python3"
    },
    "language_info": {
      "codemirror_mode": {
        "name": "ipython",
        "version": 3
      },
      "file_extension": ".py",
      "mimetype": "text/x-python",
      "name": "python",
      "nbconvert_exporter": "python",
      "pygments_lexer": "ipython3",
      "version": "3.8.12 (default, Dec  7 2022, 01:18:22) \n[GCC 9.4.0]"
    },
    "orig_nbformat": 2
  },
  "nbformat": 4,
  "nbformat_minor": 2
}
