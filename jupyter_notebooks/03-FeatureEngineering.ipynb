{
  "cells": [
    {
      "attachments": {},
      "cell_type": "markdown",
      "metadata": {
        "id": "0aStgWSO0E0E"
      },
      "source": [
        "# **Data Cleaning & Feature Engineering**"
      ]
    },
    {
      "attachments": {},
      "cell_type": "markdown",
      "metadata": {
        "id": "1eLEkw5O0ECa"
      },
      "source": [
        "## Objectives\n",
        "\n",
        "* Clean and prepare the dataset\n",
        "* Split the dataset into respective train and test sets for Outcome of Diabetic and Non-Diabetic\n",
        "* Impute zero values with the median\n",
        "* Standardise the data ready for training the ML model\n",
        "* Select the feature engineering method for use in the ML pipeline using the train test datasets\n",
        "\n",
        "## Inputs\n",
        "\n",
        "* outputs/datasets/collection/diabetes.csv\n",
        "\n",
        "## Outputs\n",
        "\n",
        "* Cleaned dataset will be generated for Train and Test sets and will be exported to outputs/datasets/cleaned folder\n",
        "    * outputs/datasets/cleaned/x_train_cleaned.csv\n",
        "    * outputs/datasets/cleaned/y_train_cleaned.csv\n",
        "    * outputs/datasets/cleaned/x_test_cleaned.csv\n",
        "    * outputs/datasets/cleaned/y_test_cleaned.csv\n",
        "\n",
        "## Additional Comments\n",
        "\n",
        "* This Notebook falls under the CRISP-DM of Data Preperation.\n",
        "* The conclusions of this notebook is that we have a Cleaned Data Pipeline ready for the model and have split the dataset into train and test sets.\n",
        "* Due to the overlap between the data cleaning and feature engineering portions of the pipeline, it was decided that one notebook was best used to incorporate both the Data Cleaning and the Feature engineering processes.\n"
      ]
    },
    {
      "cell_type": "markdown",
      "metadata": {
        "id": "9uWZXH9LwoQg"
      },
      "source": [
        "---"
      ]
    },
    {
      "cell_type": "markdown",
      "metadata": {
        "id": "cqP-UeN-z3i2"
      },
      "source": [
        "# Change working directory"
      ]
    },
    {
      "cell_type": "markdown",
      "metadata": {},
      "source": [
        "* As the notebooks are stored in the subfolder 'jupyter_notebooks' we therefore, when running the notebook in the editor, need to change the working directory."
      ]
    },
    {
      "cell_type": "markdown",
      "metadata": {
        "id": "aOGIGS-uz3i2"
      },
      "source": [
        "We need to change the working directory from its current folder to its parent folder\n",
        "* We access the current directory with os.getcwd()"
      ]
    },
    {
      "cell_type": "code",
      "execution_count": 1,
      "metadata": {
        "id": "wZfF_j-Bz3i4",
        "outputId": "66943449-1436-4c3d-85c7-b85f9f78349b"
      },
      "outputs": [
        {
          "data": {
            "text/plain": [
              "'/workspace/pp5-diabetes-prediction/jupyter_notebooks'"
            ]
          },
          "execution_count": 1,
          "metadata": {},
          "output_type": "execute_result"
        }
      ],
      "source": [
        "import os\n",
        "current_dir = os.getcwd()\n",
        "current_dir"
      ]
    },
    {
      "cell_type": "markdown",
      "metadata": {
        "id": "9MWW8E7lz3i7"
      },
      "source": [
        "We want to make the parent of the current directory the new current directory\n",
        "* os.path.dirname() gets the parent directory\n",
        "* os.chir() defines the new current directory"
      ]
    },
    {
      "cell_type": "code",
      "execution_count": 2,
      "metadata": {
        "id": "TwHsQRWjz3i9",
        "outputId": "86849db3-cd2f-4cc5-ebb8-2d0caafa1a2c"
      },
      "outputs": [
        {
          "name": "stdout",
          "output_type": "stream",
          "text": [
            "You set a new current directory\n"
          ]
        }
      ],
      "source": [
        "os.chdir(os.path.dirname(current_dir))\n",
        "print(\"You set a new current directory\")"
      ]
    },
    {
      "cell_type": "markdown",
      "metadata": {
        "id": "M_xPk_Ijz3i-"
      },
      "source": [
        "Confirm the new current directory"
      ]
    },
    {
      "cell_type": "code",
      "execution_count": null,
      "metadata": {
        "id": "vz3S-_kjz3jA",
        "outputId": "00b79ae4-75d0-4a96-d193-ac9ef9847ea2"
      },
      "outputs": [],
      "source": [
        "current_dir = os.getcwd()\n",
        "current_dir"
      ]
    },
    {
      "cell_type": "markdown",
      "metadata": {},
      "source": [
        "# Importing the Libraries"
      ]
    },
    {
      "cell_type": "markdown",
      "metadata": {},
      "source": [
        "* Here we will import the dependencies used during the Correlation Study phase."
      ]
    },
    {
      "cell_type": "code",
      "execution_count": 3,
      "metadata": {},
      "outputs": [],
      "source": [
        "import pandas as pd\n",
        "import numpy as np\n",
        "import seaborn as sns\n",
        "import matplotlib.pyplot as plt\n",
        "%matplotlib inline\n",
        "\n",
        "from sklearn.preprocessing import StandardScaler\n",
        "from sklearn.model_selection import train_test_split\n",
        "from sklearn.metrics import accuracy_score"
      ]
    },
    {
      "cell_type": "markdown",
      "metadata": {
        "id": "-mavJ8DibrcQ"
      },
      "source": [
        "# Loading Collected Dataset"
      ]
    },
    {
      "cell_type": "markdown",
      "metadata": {},
      "source": [
        "* We will begin by loading the diabetes dataset.\n",
        "\n",
        "* A Pandas dataframe is declared using the diabetes dataset using `read_csv()`\n",
        "\n",
        "* The first fifteen rows will be displayed using `head()` to get a broader view of the data that will need cleaning"
      ]
    },
    {
      "cell_type": "code",
      "execution_count": 4,
      "metadata": {},
      "outputs": [
        {
          "data": {
            "text/html": [
              "<div>\n",
              "<style scoped>\n",
              "    .dataframe tbody tr th:only-of-type {\n",
              "        vertical-align: middle;\n",
              "    }\n",
              "\n",
              "    .dataframe tbody tr th {\n",
              "        vertical-align: top;\n",
              "    }\n",
              "\n",
              "    .dataframe thead th {\n",
              "        text-align: right;\n",
              "    }\n",
              "</style>\n",
              "<table border=\"1\" class=\"dataframe\">\n",
              "  <thead>\n",
              "    <tr style=\"text-align: right;\">\n",
              "      <th></th>\n",
              "      <th>Pregnancies</th>\n",
              "      <th>Glucose</th>\n",
              "      <th>BloodPressure</th>\n",
              "      <th>SkinThickness</th>\n",
              "      <th>Insulin</th>\n",
              "      <th>BMI</th>\n",
              "      <th>DiabetesPedigreeFunction</th>\n",
              "      <th>Age</th>\n",
              "      <th>Outcome</th>\n",
              "    </tr>\n",
              "  </thead>\n",
              "  <tbody>\n",
              "    <tr>\n",
              "      <th>0</th>\n",
              "      <td>6</td>\n",
              "      <td>148</td>\n",
              "      <td>72</td>\n",
              "      <td>35</td>\n",
              "      <td>0</td>\n",
              "      <td>33.6</td>\n",
              "      <td>0.627</td>\n",
              "      <td>50</td>\n",
              "      <td>1</td>\n",
              "    </tr>\n",
              "    <tr>\n",
              "      <th>1</th>\n",
              "      <td>1</td>\n",
              "      <td>85</td>\n",
              "      <td>66</td>\n",
              "      <td>29</td>\n",
              "      <td>0</td>\n",
              "      <td>26.6</td>\n",
              "      <td>0.351</td>\n",
              "      <td>31</td>\n",
              "      <td>0</td>\n",
              "    </tr>\n",
              "    <tr>\n",
              "      <th>2</th>\n",
              "      <td>8</td>\n",
              "      <td>183</td>\n",
              "      <td>64</td>\n",
              "      <td>0</td>\n",
              "      <td>0</td>\n",
              "      <td>23.3</td>\n",
              "      <td>0.672</td>\n",
              "      <td>32</td>\n",
              "      <td>1</td>\n",
              "    </tr>\n",
              "    <tr>\n",
              "      <th>3</th>\n",
              "      <td>1</td>\n",
              "      <td>89</td>\n",
              "      <td>66</td>\n",
              "      <td>23</td>\n",
              "      <td>94</td>\n",
              "      <td>28.1</td>\n",
              "      <td>0.167</td>\n",
              "      <td>21</td>\n",
              "      <td>0</td>\n",
              "    </tr>\n",
              "    <tr>\n",
              "      <th>4</th>\n",
              "      <td>0</td>\n",
              "      <td>137</td>\n",
              "      <td>40</td>\n",
              "      <td>35</td>\n",
              "      <td>168</td>\n",
              "      <td>43.1</td>\n",
              "      <td>2.288</td>\n",
              "      <td>33</td>\n",
              "      <td>1</td>\n",
              "    </tr>\n",
              "    <tr>\n",
              "      <th>5</th>\n",
              "      <td>5</td>\n",
              "      <td>116</td>\n",
              "      <td>74</td>\n",
              "      <td>0</td>\n",
              "      <td>0</td>\n",
              "      <td>25.6</td>\n",
              "      <td>0.201</td>\n",
              "      <td>30</td>\n",
              "      <td>0</td>\n",
              "    </tr>\n",
              "    <tr>\n",
              "      <th>6</th>\n",
              "      <td>3</td>\n",
              "      <td>78</td>\n",
              "      <td>50</td>\n",
              "      <td>32</td>\n",
              "      <td>88</td>\n",
              "      <td>31.0</td>\n",
              "      <td>0.248</td>\n",
              "      <td>26</td>\n",
              "      <td>1</td>\n",
              "    </tr>\n",
              "    <tr>\n",
              "      <th>7</th>\n",
              "      <td>10</td>\n",
              "      <td>115</td>\n",
              "      <td>0</td>\n",
              "      <td>0</td>\n",
              "      <td>0</td>\n",
              "      <td>35.3</td>\n",
              "      <td>0.134</td>\n",
              "      <td>29</td>\n",
              "      <td>0</td>\n",
              "    </tr>\n",
              "    <tr>\n",
              "      <th>8</th>\n",
              "      <td>2</td>\n",
              "      <td>197</td>\n",
              "      <td>70</td>\n",
              "      <td>45</td>\n",
              "      <td>543</td>\n",
              "      <td>30.5</td>\n",
              "      <td>0.158</td>\n",
              "      <td>53</td>\n",
              "      <td>1</td>\n",
              "    </tr>\n",
              "    <tr>\n",
              "      <th>9</th>\n",
              "      <td>8</td>\n",
              "      <td>125</td>\n",
              "      <td>96</td>\n",
              "      <td>0</td>\n",
              "      <td>0</td>\n",
              "      <td>0.0</td>\n",
              "      <td>0.232</td>\n",
              "      <td>54</td>\n",
              "      <td>1</td>\n",
              "    </tr>\n",
              "    <tr>\n",
              "      <th>10</th>\n",
              "      <td>4</td>\n",
              "      <td>110</td>\n",
              "      <td>92</td>\n",
              "      <td>0</td>\n",
              "      <td>0</td>\n",
              "      <td>37.6</td>\n",
              "      <td>0.191</td>\n",
              "      <td>30</td>\n",
              "      <td>0</td>\n",
              "    </tr>\n",
              "    <tr>\n",
              "      <th>11</th>\n",
              "      <td>10</td>\n",
              "      <td>168</td>\n",
              "      <td>74</td>\n",
              "      <td>0</td>\n",
              "      <td>0</td>\n",
              "      <td>38.0</td>\n",
              "      <td>0.537</td>\n",
              "      <td>34</td>\n",
              "      <td>1</td>\n",
              "    </tr>\n",
              "    <tr>\n",
              "      <th>12</th>\n",
              "      <td>10</td>\n",
              "      <td>139</td>\n",
              "      <td>80</td>\n",
              "      <td>0</td>\n",
              "      <td>0</td>\n",
              "      <td>27.1</td>\n",
              "      <td>1.441</td>\n",
              "      <td>57</td>\n",
              "      <td>0</td>\n",
              "    </tr>\n",
              "    <tr>\n",
              "      <th>13</th>\n",
              "      <td>1</td>\n",
              "      <td>189</td>\n",
              "      <td>60</td>\n",
              "      <td>23</td>\n",
              "      <td>846</td>\n",
              "      <td>30.1</td>\n",
              "      <td>0.398</td>\n",
              "      <td>59</td>\n",
              "      <td>1</td>\n",
              "    </tr>\n",
              "    <tr>\n",
              "      <th>14</th>\n",
              "      <td>5</td>\n",
              "      <td>166</td>\n",
              "      <td>72</td>\n",
              "      <td>19</td>\n",
              "      <td>175</td>\n",
              "      <td>25.8</td>\n",
              "      <td>0.587</td>\n",
              "      <td>51</td>\n",
              "      <td>1</td>\n",
              "    </tr>\n",
              "  </tbody>\n",
              "</table>\n",
              "</div>"
            ],
            "text/plain": [
              "    Pregnancies  Glucose  BloodPressure  SkinThickness  Insulin   BMI  \\\n",
              "0             6      148             72             35        0  33.6   \n",
              "1             1       85             66             29        0  26.6   \n",
              "2             8      183             64              0        0  23.3   \n",
              "3             1       89             66             23       94  28.1   \n",
              "4             0      137             40             35      168  43.1   \n",
              "5             5      116             74              0        0  25.6   \n",
              "6             3       78             50             32       88  31.0   \n",
              "7            10      115              0              0        0  35.3   \n",
              "8             2      197             70             45      543  30.5   \n",
              "9             8      125             96              0        0   0.0   \n",
              "10            4      110             92              0        0  37.6   \n",
              "11           10      168             74              0        0  38.0   \n",
              "12           10      139             80              0        0  27.1   \n",
              "13            1      189             60             23      846  30.1   \n",
              "14            5      166             72             19      175  25.8   \n",
              "\n",
              "    DiabetesPedigreeFunction  Age  Outcome  \n",
              "0                      0.627   50        1  \n",
              "1                      0.351   31        0  \n",
              "2                      0.672   32        1  \n",
              "3                      0.167   21        0  \n",
              "4                      2.288   33        1  \n",
              "5                      0.201   30        0  \n",
              "6                      0.248   26        1  \n",
              "7                      0.134   29        0  \n",
              "8                      0.158   53        1  \n",
              "9                      0.232   54        1  \n",
              "10                     0.191   30        0  \n",
              "11                     0.537   34        1  \n",
              "12                     1.441   57        0  \n",
              "13                     0.398   59        1  \n",
              "14                     0.587   51        1  "
            ]
          },
          "execution_count": 4,
          "metadata": {},
          "output_type": "execute_result"
        }
      ],
      "source": [
        "import pandas as pd\n",
        "df = pd.read_csv(f\"outputs/datasets/collection/diabetes.csv\")\n",
        "df.head(15)\n"
      ]
    },
    {
      "cell_type": "markdown",
      "metadata": {
        "id": "ZY3l0-AxO93d"
      },
      "source": [
        "---"
      ]
    },
    {
      "cell_type": "markdown",
      "metadata": {
        "id": "uFQo3ycuO-v6"
      },
      "source": [
        "# Zero Value Data"
      ]
    },
    {
      "attachments": {},
      "cell_type": "markdown",
      "metadata": {},
      "source": [
        "* We identified previously that some variables had some abnormalities with zero values, this is likely due to missing values being represented as zeros in the original source data.\n",
        "\n",
        "* These zero values will either need to be removed from the dataset or replaced and added by imputing with a median value. As the dataset is already small, imputing will be opted for in this stage of cleaning the data.\n",
        "\n",
        "* External code was taken from [towardsdatascience](https://towardsdatascience.com/pima-indian-diabetes-prediction-7573698bd5fe) for guidance with replacing zero values and was then customised to be appropriate for our dataset."
      ]
    },
    {
      "cell_type": "code",
      "execution_count": 5,
      "metadata": {},
      "outputs": [],
      "source": [
        "# BloodPressure\n",
        "\n",
        "df1 = df.loc[df['Outcome'] == 1]\n",
        "df2 = df.loc[df['Outcome'] == 0]\n",
        "df1 = df1.replace({'BloodPressure':0}, np.median(df1['BloodPressure']))\n",
        "df2 = df2.replace({'BloodPressure':0}, np.median(df2['BloodPressure']))\n",
        "dataframe = [df1, df2]\n",
        "df = pd.concat(dataframe)"
      ]
    },
    {
      "attachments": {},
      "cell_type": "markdown",
      "metadata": {},
      "source": [
        "* Zero values will now be replaced for 1 (Diabetic) with a median of 1 and this will also be true for 0 (Non-Diabetic) when it comes to the Outcome variable using NumPy's median function.\n",
        "\n",
        "* We need to apply the same code for each variable where there is an abnormal occurance."
      ]
    },
    {
      "cell_type": "code",
      "execution_count": 6,
      "metadata": {},
      "outputs": [],
      "source": [
        "# BMI\n",
        "\n",
        "df1 = df.loc[df['Outcome'] == 1]\n",
        "df2 = df.loc[df['Outcome'] == 0]\n",
        "df1 = df1.replace({'BMI':0}, np.median(df1['BMI']))\n",
        "df2 = df2.replace({'BMI':0}, np.median(df2['BMI']))\n",
        "dataframe = [df1, df2]\n",
        "df = pd.concat(dataframe)"
      ]
    },
    {
      "cell_type": "code",
      "execution_count": 7,
      "metadata": {},
      "outputs": [],
      "source": [
        "# Insulin\n",
        "\n",
        "df1 = df.loc[df['Outcome'] == 1]\n",
        "df2 = df.loc[df['Outcome'] == 0]\n",
        "df1 = df1.replace({'Insulin':0}, np.median(df1['Insulin']))\n",
        "df2 = df2.replace({'Insulin':0}, np.median(df2['Insulin']))\n",
        "dataframe = [df1, df2]\n",
        "df = pd.concat(dataframe)"
      ]
    },
    {
      "cell_type": "code",
      "execution_count": 8,
      "metadata": {},
      "outputs": [],
      "source": [
        "# SkinThickness\n",
        "\n",
        "df1 = df.loc[df['Outcome'] == 1]\n",
        "df2 = df.loc[df['Outcome'] == 0]\n",
        "df1 = df1.replace({'SkinThickness':0}, np.median(df1['SkinThickness']))\n",
        "df2 = df2.replace({'SkinThickness':0}, np.median(df2['SkinThickness']))\n",
        "dataframe = [df1, df2]\n",
        "df = pd.concat(dataframe)"
      ]
    },
    {
      "cell_type": "code",
      "execution_count": 9,
      "metadata": {},
      "outputs": [],
      "source": [
        "# Glucose\n",
        "df1 = df.loc[df['Outcome'] == 1]\n",
        "df2 = df.loc[df['Outcome'] == 0]\n",
        "df1 = df1.replace({'Glucose':0}, np.median(df1['Glucose']))\n",
        "df2 = df2.replace({'Glucose':0}, np.median(df2['Glucose']))\n",
        "dataframe = [df1, df2]\n",
        "df = pd.concat(dataframe)"
      ]
    },
    {
      "cell_type": "markdown",
      "metadata": {},
      "source": [
        "* We can test that the above changes have been made by running the function `head()` to get a list of the first fifteen rows again to see what the new median data will be."
      ]
    },
    {
      "cell_type": "code",
      "execution_count": 10,
      "metadata": {},
      "outputs": [
        {
          "data": {
            "text/html": [
              "<div>\n",
              "<style scoped>\n",
              "    .dataframe tbody tr th:only-of-type {\n",
              "        vertical-align: middle;\n",
              "    }\n",
              "\n",
              "    .dataframe tbody tr th {\n",
              "        vertical-align: top;\n",
              "    }\n",
              "\n",
              "    .dataframe thead th {\n",
              "        text-align: right;\n",
              "    }\n",
              "</style>\n",
              "<table border=\"1\" class=\"dataframe\">\n",
              "  <thead>\n",
              "    <tr style=\"text-align: right;\">\n",
              "      <th></th>\n",
              "      <th>Pregnancies</th>\n",
              "      <th>Glucose</th>\n",
              "      <th>BloodPressure</th>\n",
              "      <th>SkinThickness</th>\n",
              "      <th>Insulin</th>\n",
              "      <th>BMI</th>\n",
              "      <th>DiabetesPedigreeFunction</th>\n",
              "      <th>Age</th>\n",
              "      <th>Outcome</th>\n",
              "    </tr>\n",
              "  </thead>\n",
              "  <tbody>\n",
              "    <tr>\n",
              "      <th>0</th>\n",
              "      <td>6</td>\n",
              "      <td>148</td>\n",
              "      <td>72</td>\n",
              "      <td>35</td>\n",
              "      <td>0</td>\n",
              "      <td>33.60</td>\n",
              "      <td>0.627</td>\n",
              "      <td>50</td>\n",
              "      <td>1</td>\n",
              "    </tr>\n",
              "    <tr>\n",
              "      <th>2</th>\n",
              "      <td>8</td>\n",
              "      <td>183</td>\n",
              "      <td>64</td>\n",
              "      <td>27</td>\n",
              "      <td>0</td>\n",
              "      <td>23.30</td>\n",
              "      <td>0.672</td>\n",
              "      <td>32</td>\n",
              "      <td>1</td>\n",
              "    </tr>\n",
              "    <tr>\n",
              "      <th>4</th>\n",
              "      <td>0</td>\n",
              "      <td>137</td>\n",
              "      <td>40</td>\n",
              "      <td>35</td>\n",
              "      <td>168</td>\n",
              "      <td>43.10</td>\n",
              "      <td>2.288</td>\n",
              "      <td>33</td>\n",
              "      <td>1</td>\n",
              "    </tr>\n",
              "    <tr>\n",
              "      <th>6</th>\n",
              "      <td>3</td>\n",
              "      <td>78</td>\n",
              "      <td>50</td>\n",
              "      <td>32</td>\n",
              "      <td>88</td>\n",
              "      <td>31.00</td>\n",
              "      <td>0.248</td>\n",
              "      <td>26</td>\n",
              "      <td>1</td>\n",
              "    </tr>\n",
              "    <tr>\n",
              "      <th>8</th>\n",
              "      <td>2</td>\n",
              "      <td>197</td>\n",
              "      <td>70</td>\n",
              "      <td>45</td>\n",
              "      <td>543</td>\n",
              "      <td>30.50</td>\n",
              "      <td>0.158</td>\n",
              "      <td>53</td>\n",
              "      <td>1</td>\n",
              "    </tr>\n",
              "    <tr>\n",
              "      <th>9</th>\n",
              "      <td>8</td>\n",
              "      <td>125</td>\n",
              "      <td>96</td>\n",
              "      <td>27</td>\n",
              "      <td>0</td>\n",
              "      <td>34.25</td>\n",
              "      <td>0.232</td>\n",
              "      <td>54</td>\n",
              "      <td>1</td>\n",
              "    </tr>\n",
              "    <tr>\n",
              "      <th>11</th>\n",
              "      <td>10</td>\n",
              "      <td>168</td>\n",
              "      <td>74</td>\n",
              "      <td>27</td>\n",
              "      <td>0</td>\n",
              "      <td>38.00</td>\n",
              "      <td>0.537</td>\n",
              "      <td>34</td>\n",
              "      <td>1</td>\n",
              "    </tr>\n",
              "    <tr>\n",
              "      <th>13</th>\n",
              "      <td>1</td>\n",
              "      <td>189</td>\n",
              "      <td>60</td>\n",
              "      <td>23</td>\n",
              "      <td>846</td>\n",
              "      <td>30.10</td>\n",
              "      <td>0.398</td>\n",
              "      <td>59</td>\n",
              "      <td>1</td>\n",
              "    </tr>\n",
              "    <tr>\n",
              "      <th>14</th>\n",
              "      <td>5</td>\n",
              "      <td>166</td>\n",
              "      <td>72</td>\n",
              "      <td>19</td>\n",
              "      <td>175</td>\n",
              "      <td>25.80</td>\n",
              "      <td>0.587</td>\n",
              "      <td>51</td>\n",
              "      <td>1</td>\n",
              "    </tr>\n",
              "    <tr>\n",
              "      <th>15</th>\n",
              "      <td>7</td>\n",
              "      <td>100</td>\n",
              "      <td>74</td>\n",
              "      <td>27</td>\n",
              "      <td>0</td>\n",
              "      <td>30.00</td>\n",
              "      <td>0.484</td>\n",
              "      <td>32</td>\n",
              "      <td>1</td>\n",
              "    </tr>\n",
              "    <tr>\n",
              "      <th>16</th>\n",
              "      <td>0</td>\n",
              "      <td>118</td>\n",
              "      <td>84</td>\n",
              "      <td>47</td>\n",
              "      <td>230</td>\n",
              "      <td>45.80</td>\n",
              "      <td>0.551</td>\n",
              "      <td>31</td>\n",
              "      <td>1</td>\n",
              "    </tr>\n",
              "    <tr>\n",
              "      <th>17</th>\n",
              "      <td>7</td>\n",
              "      <td>107</td>\n",
              "      <td>74</td>\n",
              "      <td>27</td>\n",
              "      <td>0</td>\n",
              "      <td>29.60</td>\n",
              "      <td>0.254</td>\n",
              "      <td>31</td>\n",
              "      <td>1</td>\n",
              "    </tr>\n",
              "    <tr>\n",
              "      <th>19</th>\n",
              "      <td>1</td>\n",
              "      <td>115</td>\n",
              "      <td>70</td>\n",
              "      <td>30</td>\n",
              "      <td>96</td>\n",
              "      <td>34.60</td>\n",
              "      <td>0.529</td>\n",
              "      <td>32</td>\n",
              "      <td>1</td>\n",
              "    </tr>\n",
              "    <tr>\n",
              "      <th>22</th>\n",
              "      <td>7</td>\n",
              "      <td>196</td>\n",
              "      <td>90</td>\n",
              "      <td>27</td>\n",
              "      <td>0</td>\n",
              "      <td>39.80</td>\n",
              "      <td>0.451</td>\n",
              "      <td>41</td>\n",
              "      <td>1</td>\n",
              "    </tr>\n",
              "    <tr>\n",
              "      <th>23</th>\n",
              "      <td>9</td>\n",
              "      <td>119</td>\n",
              "      <td>80</td>\n",
              "      <td>35</td>\n",
              "      <td>0</td>\n",
              "      <td>29.00</td>\n",
              "      <td>0.263</td>\n",
              "      <td>29</td>\n",
              "      <td>1</td>\n",
              "    </tr>\n",
              "  </tbody>\n",
              "</table>\n",
              "</div>"
            ],
            "text/plain": [
              "    Pregnancies  Glucose  BloodPressure  SkinThickness  Insulin    BMI  \\\n",
              "0             6      148             72             35        0  33.60   \n",
              "2             8      183             64             27        0  23.30   \n",
              "4             0      137             40             35      168  43.10   \n",
              "6             3       78             50             32       88  31.00   \n",
              "8             2      197             70             45      543  30.50   \n",
              "9             8      125             96             27        0  34.25   \n",
              "11           10      168             74             27        0  38.00   \n",
              "13            1      189             60             23      846  30.10   \n",
              "14            5      166             72             19      175  25.80   \n",
              "15            7      100             74             27        0  30.00   \n",
              "16            0      118             84             47      230  45.80   \n",
              "17            7      107             74             27        0  29.60   \n",
              "19            1      115             70             30       96  34.60   \n",
              "22            7      196             90             27        0  39.80   \n",
              "23            9      119             80             35        0  29.00   \n",
              "\n",
              "    DiabetesPedigreeFunction  Age  Outcome  \n",
              "0                      0.627   50        1  \n",
              "2                      0.672   32        1  \n",
              "4                      2.288   33        1  \n",
              "6                      0.248   26        1  \n",
              "8                      0.158   53        1  \n",
              "9                      0.232   54        1  \n",
              "11                     0.537   34        1  \n",
              "13                     0.398   59        1  \n",
              "14                     0.587   51        1  \n",
              "15                     0.484   32        1  \n",
              "16                     0.551   31        1  \n",
              "17                     0.254   31        1  \n",
              "19                     0.529   32        1  \n",
              "22                     0.451   41        1  \n",
              "23                     0.263   29        1  "
            ]
          },
          "execution_count": 10,
          "metadata": {},
          "output_type": "execute_result"
        }
      ],
      "source": [
        "df.head(15)"
      ]
    },
    {
      "cell_type": "markdown",
      "metadata": {},
      "source": [
        "* After cleaning the data we can see that Insulin still has zero values for the median for Diabetics (Outcome 1). From this we hypothesise that Insulin for Diabetics is lower than that of non-diabetics."
      ]
    },
    {
      "cell_type": "markdown",
      "metadata": {},
      "source": [
        "* Next we want to group the diabetes dataset by mean for the Outcome as this is what the machine learning algorithm will see."
      ]
    },
    {
      "cell_type": "code",
      "execution_count": 11,
      "metadata": {},
      "outputs": [
        {
          "data": {
            "text/html": [
              "<div>\n",
              "<style scoped>\n",
              "    .dataframe tbody tr th:only-of-type {\n",
              "        vertical-align: middle;\n",
              "    }\n",
              "\n",
              "    .dataframe tbody tr th {\n",
              "        vertical-align: top;\n",
              "    }\n",
              "\n",
              "    .dataframe thead th {\n",
              "        text-align: right;\n",
              "    }\n",
              "</style>\n",
              "<table border=\"1\" class=\"dataframe\">\n",
              "  <thead>\n",
              "    <tr style=\"text-align: right;\">\n",
              "      <th></th>\n",
              "      <th>Pregnancies</th>\n",
              "      <th>Glucose</th>\n",
              "      <th>BloodPressure</th>\n",
              "      <th>SkinThickness</th>\n",
              "      <th>Insulin</th>\n",
              "      <th>BMI</th>\n",
              "      <th>DiabetesPedigreeFunction</th>\n",
              "      <th>Age</th>\n",
              "    </tr>\n",
              "    <tr>\n",
              "      <th>Outcome</th>\n",
              "      <th></th>\n",
              "      <th></th>\n",
              "      <th></th>\n",
              "      <th></th>\n",
              "      <th></th>\n",
              "      <th></th>\n",
              "      <th></th>\n",
              "      <th></th>\n",
              "    </tr>\n",
              "  </thead>\n",
              "  <tbody>\n",
              "    <tr>\n",
              "      <th>0</th>\n",
              "      <td>3.298000</td>\n",
              "      <td>110.622000</td>\n",
              "      <td>70.844000</td>\n",
              "      <td>25.502000</td>\n",
              "      <td>87.200000</td>\n",
              "      <td>30.845100</td>\n",
              "      <td>0.429734</td>\n",
              "      <td>31.190000</td>\n",
              "    </tr>\n",
              "    <tr>\n",
              "      <th>1</th>\n",
              "      <td>4.865672</td>\n",
              "      <td>142.302239</td>\n",
              "      <td>75.242537</td>\n",
              "      <td>31.029851</td>\n",
              "      <td>100.335821</td>\n",
              "      <td>35.398134</td>\n",
              "      <td>0.550500</td>\n",
              "      <td>37.067164</td>\n",
              "    </tr>\n",
              "  </tbody>\n",
              "</table>\n",
              "</div>"
            ],
            "text/plain": [
              "         Pregnancies     Glucose  BloodPressure  SkinThickness     Insulin  \\\n",
              "Outcome                                                                      \n",
              "0           3.298000  110.622000      70.844000      25.502000   87.200000   \n",
              "1           4.865672  142.302239      75.242537      31.029851  100.335821   \n",
              "\n",
              "               BMI  DiabetesPedigreeFunction        Age  \n",
              "Outcome                                                  \n",
              "0        30.845100                  0.429734  31.190000  \n",
              "1        35.398134                  0.550500  37.067164  "
            ]
          },
          "execution_count": 11,
          "metadata": {},
          "output_type": "execute_result"
        }
      ],
      "source": [
        "df.groupby('Outcome').mean()"
      ]
    },
    {
      "cell_type": "markdown",
      "metadata": {},
      "source": [
        "* We then want to separate the variables data from the Outcome label by dropping the Outcome column using the `drop()` function."
      ]
    },
    {
      "cell_type": "code",
      "execution_count": 12,
      "metadata": {},
      "outputs": [],
      "source": [
        "x = df.drop(columns = 'Outcome', axis=1)\n",
        "y = df['Outcome']"
      ]
    },
    {
      "cell_type": "code",
      "execution_count": 13,
      "metadata": {},
      "outputs": [
        {
          "name": "stdout",
          "output_type": "stream",
          "text": [
            "     Pregnancies  Glucose  BloodPressure  SkinThickness  Insulin   BMI  \\\n",
            "0              6      148             72             35        0  33.6   \n",
            "2              8      183             64             27        0  23.3   \n",
            "4              0      137             40             35      168  43.1   \n",
            "6              3       78             50             32       88  31.0   \n",
            "8              2      197             70             45      543  30.5   \n",
            "..           ...      ...            ...            ...      ...   ...   \n",
            "762            9       89             62             21       39  22.5   \n",
            "763           10      101             76             48      180  32.9   \n",
            "764            2      122             70             27       39  36.8   \n",
            "765            5      121             72             23      112  26.2   \n",
            "767            1       93             70             31       39  30.4   \n",
            "\n",
            "     DiabetesPedigreeFunction  Age  \n",
            "0                       0.627   50  \n",
            "2                       0.672   32  \n",
            "4                       2.288   33  \n",
            "6                       0.248   26  \n",
            "8                       0.158   53  \n",
            "..                        ...  ...  \n",
            "762                     0.142   33  \n",
            "763                     0.171   63  \n",
            "764                     0.340   27  \n",
            "765                     0.245   30  \n",
            "767                     0.315   23  \n",
            "\n",
            "[768 rows x 8 columns]\n"
          ]
        }
      ],
      "source": [
        "print(x)"
      ]
    },
    {
      "cell_type": "markdown",
      "metadata": {},
      "source": [
        "* As we can see we have successfully separated the Outcome column as it is no longer showing with the rest of the dataset when printing 'x'."
      ]
    },
    {
      "cell_type": "code",
      "execution_count": 14,
      "metadata": {},
      "outputs": [
        {
          "name": "stdout",
          "output_type": "stream",
          "text": [
            "0      1\n",
            "2      1\n",
            "4      1\n",
            "6      1\n",
            "8      1\n",
            "      ..\n",
            "762    0\n",
            "763    0\n",
            "764    0\n",
            "765    0\n",
            "767    0\n",
            "Name: Outcome, Length: 768, dtype: int64\n"
          ]
        }
      ],
      "source": [
        "print(y)"
      ]
    },
    {
      "cell_type": "markdown",
      "metadata": {},
      "source": [
        "* Next we want to standardise the data to make it easier for the machine learning model to predict the outcome."
      ]
    },
    {
      "cell_type": "markdown",
      "metadata": {},
      "source": [
        "## Data Standardisation"
      ]
    },
    {
      "cell_type": "code",
      "execution_count": 17,
      "metadata": {},
      "outputs": [],
      "source": [
        "df_scaler = StandardScaler()"
      ]
    },
    {
      "cell_type": "markdown",
      "metadata": {},
      "source": [
        "* We use `fit()` and `transform()` to take the training data as an argument and compute the mean and standard deviation to be used for further scaling."
      ]
    },
    {
      "cell_type": "code",
      "execution_count": 18,
      "metadata": {},
      "outputs": [
        {
          "name": "stdout",
          "output_type": "stream",
          "text": [
            "[[ 0.63994726  0.86462486 -0.0313235  ...  0.16958256  0.46849198\n",
            "   1.4259954 ]\n",
            " [ 1.23388019  2.01426457 -0.69266918 ... -1.3283415   0.60439732\n",
            "  -0.10558415]\n",
            " [-1.14185152  0.50330953 -2.67670622 ...  1.551163    5.4849091\n",
            "  -0.0204964 ]\n",
            " ...\n",
            " [-0.54791859  0.01060679 -0.19665992 ...  0.63495703 -0.39828208\n",
            "  -0.53102292]\n",
            " [ 0.3429808  -0.02224005 -0.0313235  ... -0.90659589 -0.68519336\n",
            "  -0.27575966]\n",
            " [-0.84488505 -0.94195182 -0.19665992 ... -0.2957919  -0.47378505\n",
            "  -0.87137393]]\n"
          ]
        }
      ],
      "source": [
        "df_scaler.fit(x)\n",
        "stnd_data = df_scaler.transform(x)\n",
        "print(stnd_data)"
      ]
    },
    {
      "cell_type": "markdown",
      "metadata": {},
      "source": [
        "* We will use the variables 'x' and 'y' for training our machine learning model. 'x' represents the data and 'y' represents the model."
      ]
    },
    {
      "cell_type": "code",
      "execution_count": 19,
      "metadata": {},
      "outputs": [
        {
          "name": "stdout",
          "output_type": "stream",
          "text": [
            "[[ 0.63994726  0.86462486 -0.0313235  ...  0.16958256  0.46849198\n",
            "   1.4259954 ]\n",
            " [ 1.23388019  2.01426457 -0.69266918 ... -1.3283415   0.60439732\n",
            "  -0.10558415]\n",
            " [-1.14185152  0.50330953 -2.67670622 ...  1.551163    5.4849091\n",
            "  -0.0204964 ]\n",
            " ...\n",
            " [-0.54791859  0.01060679 -0.19665992 ...  0.63495703 -0.39828208\n",
            "  -0.53102292]\n",
            " [ 0.3429808  -0.02224005 -0.0313235  ... -0.90659589 -0.68519336\n",
            "  -0.27575966]\n",
            " [-0.84488505 -0.94195182 -0.19665992 ... -0.2957919  -0.47378505\n",
            "  -0.87137393]]\n",
            "0      1\n",
            "2      1\n",
            "4      1\n",
            "6      1\n",
            "8      1\n",
            "      ..\n",
            "762    0\n",
            "763    0\n",
            "764    0\n",
            "765    0\n",
            "767    0\n",
            "Name: Outcome, Length: 768, dtype: int64\n"
          ]
        }
      ],
      "source": [
        "x = stnd_data\n",
        "y = df['Outcome']\n",
        "print(x)\n",
        "print(y)"
      ]
    },
    {
      "attachments": {},
      "cell_type": "markdown",
      "metadata": {},
      "source": [
        "* As we can see above, scikit-learn strips the column labels from our data when converting to a numpy ndarray for standardising the data. Whilst this is fine at this current stage, in case we need to manipulate the data further down the line, this can make things confusing. We will need to add the column labels back on for ease of interpretation."
      ]
    },
    {
      "cell_type": "code",
      "execution_count": 34,
      "metadata": {},
      "outputs": [
        {
          "name": "stdout",
          "output_type": "stream",
          "text": [
            "Index(['Pregnancies', 'Glucose', 'BloodPressure', 'SkinThickness', 'Insulin',\n",
            "       'BMI', 'DiabetesPedigreeFunction', 'Age'],\n",
            "      dtype='object')\n"
          ]
        }
      ],
      "source": [
        "x_col = df.columns[0:-1]\n",
        "print(x_col)\n"
      ]
    },
    {
      "attachments": {},
      "cell_type": "markdown",
      "metadata": {},
      "source": [
        "* As you can see above, these are the original column labels that we need to include back into our dataset. We will achieve this using the following code where the solution was found for guidance from [Stackoverflow](https://stackoverflow.com/questions/29586323/how-to-retain-column-headers-of-data-frame-after-pre-processing-in-scikit-learn)"
      ]
    },
    {
      "cell_type": "code",
      "execution_count": 32,
      "metadata": {},
      "outputs": [
        {
          "name": "stdout",
          "output_type": "stream",
          "text": [
            "     Pregnancies   Glucose  BloodPressure  SkinThickness   Insulin       BMI  \\\n",
            "0       0.639947  0.864625      -0.031324       0.812528 -0.849452  0.169583   \n",
            "1       1.233880  2.014265      -0.692669      -0.046266 -0.849452 -1.328341   \n",
            "2      -1.141852  0.503310      -2.676706       0.812528  0.705374  1.551163   \n",
            "3      -0.250952 -1.434655      -1.850024       0.490480 -0.035019 -0.208534   \n",
            "4      -0.547919  2.474120      -0.196660       1.886020  4.175966 -0.281249   \n",
            "..           ...       ...            ...            ...       ...       ...   \n",
            "763     1.530847 -1.073339      -0.858006      -0.690362 -0.488510 -1.444685   \n",
            "764     1.827813 -0.679177       0.299349       2.208068  0.816433  0.067782   \n",
            "765    -0.547919  0.010607      -0.196660      -0.046266 -0.488510  0.634957   \n",
            "766     0.342981 -0.022240      -0.031324      -0.475663  0.187099 -0.906596   \n",
            "767    -0.844885 -0.941952      -0.196660       0.383131 -0.488510 -0.295792   \n",
            "\n",
            "     DiabetesPedigreeFunction       Age  \n",
            "0                    0.468492  1.425995  \n",
            "1                    0.604397 -0.105584  \n",
            "2                    5.484909 -0.020496  \n",
            "3                   -0.676133 -0.616111  \n",
            "4                   -0.947944  1.681259  \n",
            "..                        ...       ...  \n",
            "763                 -0.996266 -0.020496  \n",
            "764                 -0.908682  2.532136  \n",
            "765                 -0.398282 -0.531023  \n",
            "766                 -0.685193 -0.275760  \n",
            "767                 -0.473785 -0.871374  \n",
            "\n",
            "[768 rows x 8 columns]\n"
          ]
        }
      ],
      "source": [
        "x_df = pd.DataFrame(x, columns = x_col)\n",
        "print(x_df)"
      ]
    },
    {
      "attachments": {},
      "cell_type": "markdown",
      "metadata": {},
      "source": [
        "* We have now converted the x matrix back to a pandas dataframe and included the original column labels ready to be split into the respective train and test sets."
      ]
    },
    {
      "cell_type": "markdown",
      "metadata": {
        "id": "9uWZXH9LwoQg"
      },
      "source": [
        "---"
      ]
    },
    {
      "cell_type": "markdown",
      "metadata": {},
      "source": [
        "## Train Test Split"
      ]
    },
    {
      "attachments": {},
      "cell_type": "markdown",
      "metadata": {},
      "source": [
        "* Next we will need to split the cleaned data into the train and test sets.\n",
        "* The x variable data will be split into two arrays which are x_train and x_test.\n",
        "* The test size will be 10% of the dataset and the train size will be 90% of the dataset. As the dataset is small, we want to maximise the amount of trained data to better improve the model."
      ]
    },
    {
      "cell_type": "code",
      "execution_count": 38,
      "metadata": {},
      "outputs": [
        {
          "name": "stdout",
          "output_type": "stream",
          "text": [
            "Total Records: (768, 8) \n",
            "x_train set: (691, 8) \n",
            "x_test set: (77, 8)\n"
          ]
        }
      ],
      "source": [
        "x_train, x_test, y_train, y_test = train_test_split(x_df,y, test_size = 0.1, stratify=y, random_state=2)\n",
        "print(f\"Total Records: {x.shape} \\nx_train set: {x_train.shape} \\nx_test set: {x_test.shape}\")"
      ]
    },
    {
      "cell_type": "markdown",
      "metadata": {},
      "source": [
        "* From this, 768 is the number of records in our dataset with 691 records being used for training data leaving 77 records to be used for the test data."
      ]
    },
    {
      "cell_type": "markdown",
      "metadata": {},
      "source": [
        "* Next we need to move onto Feature Engineering and train the model."
      ]
    },
    {
      "cell_type": "markdown",
      "metadata": {},
      "source": [
        "---"
      ]
    },
    {
      "cell_type": "markdown",
      "metadata": {
        "id": "ltNetd085qHf"
      },
      "source": [
        "# Pushing the clean files to Repository"
      ]
    },
    {
      "cell_type": "markdown",
      "metadata": {},
      "source": [
        "* If you do not need to push files to Repo, you may replace this section with \"Conclusions and Next Steps\" and state your conclusions and next steps."
      ]
    },
    {
      "cell_type": "code",
      "execution_count": 21,
      "metadata": {
        "id": "aKlnIozA4eQO",
        "outputId": "fd09bc1f-adb1-4511-f6ce-492a6af570c0"
      },
      "outputs": [
        {
          "name": "stdout",
          "output_type": "stream",
          "text": [
            "[Errno 17] File exists: 'outputs/datasets/cleaned'\n"
          ]
        }
      ],
      "source": [
        "try:\n",
        "    # Creates cleaned folder in the outputs directory\n",
        "    os.makedirs(name='outputs/datasets/cleaned')\n",
        "except Exception as e:\n",
        "    print(e)"
      ]
    },
    {
      "cell_type": "markdown",
      "metadata": {},
      "source": [
        "### Train Dataset"
      ]
    },
    {
      "cell_type": "code",
      "execution_count": 39,
      "metadata": {},
      "outputs": [],
      "source": [
        "pd.DataFrame(x_train).to_csv(\"outputs/datasets/cleaned/x_train_cleaned.csv\", index=False)"
      ]
    },
    {
      "cell_type": "code",
      "execution_count": 49,
      "metadata": {},
      "outputs": [],
      "source": [
        "pd.DataFrame(y_train).to_csv(\"outputs/datasets/cleaned/y_train_cleaned.csv\", index=False)"
      ]
    },
    {
      "cell_type": "markdown",
      "metadata": {},
      "source": [
        "### Test Dataset"
      ]
    },
    {
      "cell_type": "code",
      "execution_count": 50,
      "metadata": {},
      "outputs": [],
      "source": [
        "pd.DataFrame(x_test).to_csv(\"outputs/datasets/cleaned/x_test_cleaned.csv\", index=False)"
      ]
    },
    {
      "cell_type": "code",
      "execution_count": 51,
      "metadata": {},
      "outputs": [],
      "source": [
        "pd.DataFrame(y_test).to_csv(\"outputs/datasets/cleaned/y_test_cleaned.csv\", index=False)"
      ]
    },
    {
      "cell_type": "markdown",
      "metadata": {},
      "source": [
        "---"
      ]
    },
    {
      "attachments": {},
      "cell_type": "markdown",
      "metadata": {
        "id": "-mavJ8DibrcQ"
      },
      "source": [
        "# Loading Train/Test Dataset"
      ]
    },
    {
      "attachments": {},
      "cell_type": "markdown",
      "metadata": {},
      "source": [
        "#### Train Set"
      ]
    },
    {
      "cell_type": "code",
      "execution_count": 52,
      "metadata": {},
      "outputs": [
        {
          "data": {
            "text/html": [
              "<div>\n",
              "<style scoped>\n",
              "    .dataframe tbody tr th:only-of-type {\n",
              "        vertical-align: middle;\n",
              "    }\n",
              "\n",
              "    .dataframe tbody tr th {\n",
              "        vertical-align: top;\n",
              "    }\n",
              "\n",
              "    .dataframe thead th {\n",
              "        text-align: right;\n",
              "    }\n",
              "</style>\n",
              "<table border=\"1\" class=\"dataframe\">\n",
              "  <thead>\n",
              "    <tr style=\"text-align: right;\">\n",
              "      <th></th>\n",
              "      <th>Pregnancies</th>\n",
              "      <th>Glucose</th>\n",
              "      <th>BloodPressure</th>\n",
              "      <th>SkinThickness</th>\n",
              "      <th>Insulin</th>\n",
              "      <th>BMI</th>\n",
              "      <th>DiabetesPedigreeFunction</th>\n",
              "      <th>Age</th>\n",
              "    </tr>\n",
              "  </thead>\n",
              "  <tbody>\n",
              "    <tr>\n",
              "      <th>0</th>\n",
              "      <td>0.342981</td>\n",
              "      <td>0.569003</td>\n",
              "      <td>-0.692669</td>\n",
              "      <td>0.812528</td>\n",
              "      <td>0.446236</td>\n",
              "      <td>-0.557565</td>\n",
              "      <td>-0.183854</td>\n",
              "      <td>-0.616111</td>\n",
              "    </tr>\n",
              "    <tr>\n",
              "      <th>1</th>\n",
              "      <td>-0.547919</td>\n",
              "      <td>-0.482096</td>\n",
              "      <td>0.134013</td>\n",
              "      <td>0.275781</td>\n",
              "      <td>0.076040</td>\n",
              "      <td>0.169583</td>\n",
              "      <td>-0.204994</td>\n",
              "      <td>-0.871374</td>\n",
              "    </tr>\n",
              "    <tr>\n",
              "      <th>2</th>\n",
              "      <td>-0.250952</td>\n",
              "      <td>-0.449249</td>\n",
              "      <td>-0.858006</td>\n",
              "      <td>-0.368314</td>\n",
              "      <td>-0.488510</td>\n",
              "      <td>-0.935682</td>\n",
              "      <td>-0.751636</td>\n",
              "      <td>-0.701198</td>\n",
              "    </tr>\n",
              "    <tr>\n",
              "      <th>3</th>\n",
              "      <td>-0.844885</td>\n",
              "      <td>-0.219321</td>\n",
              "      <td>-0.196660</td>\n",
              "      <td>0.275781</td>\n",
              "      <td>0.039020</td>\n",
              "      <td>0.315012</td>\n",
              "      <td>0.172520</td>\n",
              "      <td>-0.105584</td>\n",
              "    </tr>\n",
              "    <tr>\n",
              "      <th>4</th>\n",
              "      <td>-0.844885</td>\n",
              "      <td>-1.139033</td>\n",
              "      <td>0.464686</td>\n",
              "      <td>-0.046266</td>\n",
              "      <td>-0.553294</td>\n",
              "      <td>0.315012</td>\n",
              "      <td>-1.120090</td>\n",
              "      <td>-0.956462</td>\n",
              "    </tr>\n",
              "    <tr>\n",
              "      <th>5</th>\n",
              "      <td>0.639947</td>\n",
              "      <td>-0.941952</td>\n",
              "      <td>-1.850024</td>\n",
              "      <td>0.275781</td>\n",
              "      <td>-0.257137</td>\n",
              "      <td>-0.543022</td>\n",
              "      <td>-0.349960</td>\n",
              "      <td>-0.871374</td>\n",
              "    </tr>\n",
              "    <tr>\n",
              "      <th>6</th>\n",
              "      <td>-0.547919</td>\n",
              "      <td>-0.712024</td>\n",
              "      <td>-0.527333</td>\n",
              "      <td>-0.797711</td>\n",
              "      <td>-0.016509</td>\n",
              "      <td>0.067782</td>\n",
              "      <td>1.193320</td>\n",
              "      <td>-0.445935</td>\n",
              "    </tr>\n",
              "    <tr>\n",
              "      <th>7</th>\n",
              "      <td>0.046014</td>\n",
              "      <td>-0.810564</td>\n",
              "      <td>-1.023342</td>\n",
              "      <td>-0.475663</td>\n",
              "      <td>-0.488510</td>\n",
              "      <td>-0.615737</td>\n",
              "      <td>-0.087210</td>\n",
              "      <td>-0.956462</td>\n",
              "    </tr>\n",
              "    <tr>\n",
              "      <th>8</th>\n",
              "      <td>-1.141852</td>\n",
              "      <td>-0.646330</td>\n",
              "      <td>-1.684688</td>\n",
              "      <td>-0.690362</td>\n",
              "      <td>-0.488510</td>\n",
              "      <td>-1.066568</td>\n",
              "      <td>-1.189553</td>\n",
              "      <td>-1.041549</td>\n",
              "    </tr>\n",
              "    <tr>\n",
              "      <th>9</th>\n",
              "      <td>-1.141852</td>\n",
              "      <td>0.043454</td>\n",
              "      <td>1.291368</td>\n",
              "      <td>1.027226</td>\n",
              "      <td>-0.488510</td>\n",
              "      <td>0.402270</td>\n",
              "      <td>-0.830159</td>\n",
              "      <td>-0.360847</td>\n",
              "    </tr>\n",
              "    <tr>\n",
              "      <th>10</th>\n",
              "      <td>1.233880</td>\n",
              "      <td>0.371922</td>\n",
              "      <td>-0.031324</td>\n",
              "      <td>-0.046266</td>\n",
              "      <td>-0.849452</td>\n",
              "      <td>0.067782</td>\n",
              "      <td>-0.609690</td>\n",
              "      <td>0.490030</td>\n",
              "    </tr>\n",
              "    <tr>\n",
              "      <th>11</th>\n",
              "      <td>1.827813</td>\n",
              "      <td>1.291634</td>\n",
              "      <td>-0.361996</td>\n",
              "      <td>-0.475663</td>\n",
              "      <td>0.372197</td>\n",
              "      <td>-1.008397</td>\n",
              "      <td>-0.440564</td>\n",
              "      <td>1.170732</td>\n",
              "    </tr>\n",
              "    <tr>\n",
              "      <th>12</th>\n",
              "      <td>1.530847</td>\n",
              "      <td>1.127400</td>\n",
              "      <td>1.126031</td>\n",
              "      <td>-0.046266</td>\n",
              "      <td>-0.849452</td>\n",
              "      <td>-1.110197</td>\n",
              "      <td>-0.730495</td>\n",
              "      <td>1.681259</td>\n",
              "    </tr>\n",
              "    <tr>\n",
              "      <th>13</th>\n",
              "      <td>-0.844885</td>\n",
              "      <td>0.207688</td>\n",
              "      <td>0.795359</td>\n",
              "      <td>-1.119759</td>\n",
              "      <td>0.844197</td>\n",
              "      <td>-0.717538</td>\n",
              "      <td>-1.077809</td>\n",
              "      <td>-0.956462</td>\n",
              "    </tr>\n",
              "    <tr>\n",
              "      <th>14</th>\n",
              "      <td>-0.547919</td>\n",
              "      <td>-0.646330</td>\n",
              "      <td>1.126031</td>\n",
              "      <td>0.919877</td>\n",
              "      <td>0.261138</td>\n",
              "      <td>1.900194</td>\n",
              "      <td>-1.041567</td>\n",
              "      <td>-0.871374</td>\n",
              "    </tr>\n",
              "  </tbody>\n",
              "</table>\n",
              "</div>"
            ],
            "text/plain": [
              "    Pregnancies   Glucose  BloodPressure  SkinThickness   Insulin       BMI  \\\n",
              "0      0.342981  0.569003      -0.692669       0.812528  0.446236 -0.557565   \n",
              "1     -0.547919 -0.482096       0.134013       0.275781  0.076040  0.169583   \n",
              "2     -0.250952 -0.449249      -0.858006      -0.368314 -0.488510 -0.935682   \n",
              "3     -0.844885 -0.219321      -0.196660       0.275781  0.039020  0.315012   \n",
              "4     -0.844885 -1.139033       0.464686      -0.046266 -0.553294  0.315012   \n",
              "5      0.639947 -0.941952      -1.850024       0.275781 -0.257137 -0.543022   \n",
              "6     -0.547919 -0.712024      -0.527333      -0.797711 -0.016509  0.067782   \n",
              "7      0.046014 -0.810564      -1.023342      -0.475663 -0.488510 -0.615737   \n",
              "8     -1.141852 -0.646330      -1.684688      -0.690362 -0.488510 -1.066568   \n",
              "9     -1.141852  0.043454       1.291368       1.027226 -0.488510  0.402270   \n",
              "10     1.233880  0.371922      -0.031324      -0.046266 -0.849452  0.067782   \n",
              "11     1.827813  1.291634      -0.361996      -0.475663  0.372197 -1.008397   \n",
              "12     1.530847  1.127400       1.126031      -0.046266 -0.849452 -1.110197   \n",
              "13    -0.844885  0.207688       0.795359      -1.119759  0.844197 -0.717538   \n",
              "14    -0.547919 -0.646330       1.126031       0.919877  0.261138  1.900194   \n",
              "\n",
              "    DiabetesPedigreeFunction       Age  \n",
              "0                  -0.183854 -0.616111  \n",
              "1                  -0.204994 -0.871374  \n",
              "2                  -0.751636 -0.701198  \n",
              "3                   0.172520 -0.105584  \n",
              "4                  -1.120090 -0.956462  \n",
              "5                  -0.349960 -0.871374  \n",
              "6                   1.193320 -0.445935  \n",
              "7                  -0.087210 -0.956462  \n",
              "8                  -1.189553 -1.041549  \n",
              "9                  -0.830159 -0.360847  \n",
              "10                 -0.609690  0.490030  \n",
              "11                 -0.440564  1.170732  \n",
              "12                 -0.730495  1.681259  \n",
              "13                 -1.077809 -0.956462  \n",
              "14                 -1.041567 -0.871374  "
            ]
          },
          "execution_count": 52,
          "metadata": {},
          "output_type": "execute_result"
        }
      ],
      "source": [
        "import pandas as pd\n",
        "\n",
        "x_train_path = \"outputs/datasets/cleaned/x_train_cleaned.csv\"\n",
        "x_train = pd.read_csv(x_train_path)\n",
        "\n",
        "x_train.head(15)"
      ]
    },
    {
      "attachments": {},
      "cell_type": "markdown",
      "metadata": {},
      "source": [
        "#### Test Set"
      ]
    },
    {
      "cell_type": "code",
      "execution_count": 53,
      "metadata": {},
      "outputs": [
        {
          "data": {
            "text/html": [
              "<div>\n",
              "<style scoped>\n",
              "    .dataframe tbody tr th:only-of-type {\n",
              "        vertical-align: middle;\n",
              "    }\n",
              "\n",
              "    .dataframe tbody tr th {\n",
              "        vertical-align: top;\n",
              "    }\n",
              "\n",
              "    .dataframe thead th {\n",
              "        text-align: right;\n",
              "    }\n",
              "</style>\n",
              "<table border=\"1\" class=\"dataframe\">\n",
              "  <thead>\n",
              "    <tr style=\"text-align: right;\">\n",
              "      <th></th>\n",
              "      <th>Pregnancies</th>\n",
              "      <th>Glucose</th>\n",
              "      <th>BloodPressure</th>\n",
              "      <th>SkinThickness</th>\n",
              "      <th>Insulin</th>\n",
              "      <th>BMI</th>\n",
              "      <th>DiabetesPedigreeFunction</th>\n",
              "      <th>Age</th>\n",
              "    </tr>\n",
              "  </thead>\n",
              "  <tbody>\n",
              "    <tr>\n",
              "      <th>0</th>\n",
              "      <td>0.342981</td>\n",
              "      <td>0.831778</td>\n",
              "      <td>0.464686</td>\n",
              "      <td>-0.690362</td>\n",
              "      <td>-0.488510</td>\n",
              "      <td>0.184126</td>\n",
              "      <td>-0.766737</td>\n",
              "      <td>2.702312</td>\n",
              "    </tr>\n",
              "    <tr>\n",
              "      <th>1</th>\n",
              "      <td>-0.844885</td>\n",
              "      <td>-0.876258</td>\n",
              "      <td>0.795359</td>\n",
              "      <td>-0.260965</td>\n",
              "      <td>0.816433</td>\n",
              "      <td>0.373184</td>\n",
              "      <td>-0.721435</td>\n",
              "      <td>0.830381</td>\n",
              "    </tr>\n",
              "    <tr>\n",
              "      <th>2</th>\n",
              "      <td>-0.250952</td>\n",
              "      <td>-0.350709</td>\n",
              "      <td>-0.858006</td>\n",
              "      <td>-0.690362</td>\n",
              "      <td>-0.488510</td>\n",
              "      <td>-1.430142</td>\n",
              "      <td>-0.996266</td>\n",
              "      <td>-1.041549</td>\n",
              "    </tr>\n",
              "    <tr>\n",
              "      <th>3</th>\n",
              "      <td>0.639947</td>\n",
              "      <td>-0.416402</td>\n",
              "      <td>-1.023342</td>\n",
              "      <td>-0.046266</td>\n",
              "      <td>-0.488510</td>\n",
              "      <td>-1.081111</td>\n",
              "      <td>-0.802978</td>\n",
              "      <td>-0.531023</td>\n",
              "    </tr>\n",
              "    <tr>\n",
              "      <th>4</th>\n",
              "      <td>-0.250952</td>\n",
              "      <td>-0.219321</td>\n",
              "      <td>-0.527333</td>\n",
              "      <td>1.241924</td>\n",
              "      <td>0.446236</td>\n",
              "      <td>0.824015</td>\n",
              "      <td>-0.972105</td>\n",
              "      <td>-0.445935</td>\n",
              "    </tr>\n",
              "    <tr>\n",
              "      <th>5</th>\n",
              "      <td>-0.844885</td>\n",
              "      <td>-1.040492</td>\n",
              "      <td>-0.858006</td>\n",
              "      <td>-1.012410</td>\n",
              "      <td>-0.303412</td>\n",
              "      <td>-1.066568</td>\n",
              "      <td>2.404388</td>\n",
              "      <td>-0.701198</td>\n",
              "    </tr>\n",
              "    <tr>\n",
              "      <th>6</th>\n",
              "      <td>-0.844885</td>\n",
              "      <td>0.798931</td>\n",
              "      <td>-1.354015</td>\n",
              "      <td>-0.690362</td>\n",
              "      <td>-0.488510</td>\n",
              "      <td>-0.397593</td>\n",
              "      <td>0.278225</td>\n",
              "      <td>-0.360847</td>\n",
              "    </tr>\n",
              "    <tr>\n",
              "      <th>7</th>\n",
              "      <td>1.233880</td>\n",
              "      <td>-0.055087</td>\n",
              "      <td>0.464686</td>\n",
              "      <td>-0.690362</td>\n",
              "      <td>-0.488510</td>\n",
              "      <td>-1.081111</td>\n",
              "      <td>-0.189894</td>\n",
              "      <td>2.617224</td>\n",
              "    </tr>\n",
              "    <tr>\n",
              "      <th>8</th>\n",
              "      <td>-1.141852</td>\n",
              "      <td>0.503310</td>\n",
              "      <td>0.960695</td>\n",
              "      <td>-0.046266</td>\n",
              "      <td>-0.488510</td>\n",
              "      <td>-0.746623</td>\n",
              "      <td>-0.727475</td>\n",
              "      <td>2.191785</td>\n",
              "    </tr>\n",
              "    <tr>\n",
              "      <th>9</th>\n",
              "      <td>0.046014</td>\n",
              "      <td>0.240535</td>\n",
              "      <td>-1.023342</td>\n",
              "      <td>-1.656505</td>\n",
              "      <td>1.288433</td>\n",
              "      <td>-0.717538</td>\n",
              "      <td>0.166480</td>\n",
              "      <td>-0.190672</td>\n",
              "    </tr>\n",
              "    <tr>\n",
              "      <th>10</th>\n",
              "      <td>-0.844885</td>\n",
              "      <td>-1.106186</td>\n",
              "      <td>0.464686</td>\n",
              "      <td>0.168432</td>\n",
              "      <td>-0.146078</td>\n",
              "      <td>-0.063105</td>\n",
              "      <td>-0.322779</td>\n",
              "      <td>-0.360847</td>\n",
              "    </tr>\n",
              "    <tr>\n",
              "      <th>11</th>\n",
              "      <td>2.124780</td>\n",
              "      <td>-0.613483</td>\n",
              "      <td>-0.361996</td>\n",
              "      <td>1.349274</td>\n",
              "      <td>-0.488510</td>\n",
              "      <td>2.001995</td>\n",
              "      <td>-1.044587</td>\n",
              "      <td>0.745293</td>\n",
              "    </tr>\n",
              "    <tr>\n",
              "      <th>12</th>\n",
              "      <td>-0.547919</td>\n",
              "      <td>-0.449249</td>\n",
              "      <td>-0.858006</td>\n",
              "      <td>0.490480</td>\n",
              "      <td>-0.331176</td>\n",
              "      <td>-1.052025</td>\n",
              "      <td>-1.038547</td>\n",
              "      <td>-1.041549</td>\n",
              "    </tr>\n",
              "    <tr>\n",
              "      <th>13</th>\n",
              "      <td>0.342981</td>\n",
              "      <td>2.145652</td>\n",
              "      <td>0.299349</td>\n",
              "      <td>-0.046266</td>\n",
              "      <td>1.066315</td>\n",
              "      <td>1.623878</td>\n",
              "      <td>1.697680</td>\n",
              "      <td>1.681259</td>\n",
              "    </tr>\n",
              "    <tr>\n",
              "      <th>14</th>\n",
              "      <td>-0.547919</td>\n",
              "      <td>0.798931</td>\n",
              "      <td>-0.196660</td>\n",
              "      <td>1.134575</td>\n",
              "      <td>2.482317</td>\n",
              "      <td>-0.644823</td>\n",
              "      <td>-0.407342</td>\n",
              "      <td>-0.360847</td>\n",
              "    </tr>\n",
              "  </tbody>\n",
              "</table>\n",
              "</div>"
            ],
            "text/plain": [
              "    Pregnancies   Glucose  BloodPressure  SkinThickness   Insulin       BMI  \\\n",
              "0      0.342981  0.831778       0.464686      -0.690362 -0.488510  0.184126   \n",
              "1     -0.844885 -0.876258       0.795359      -0.260965  0.816433  0.373184   \n",
              "2     -0.250952 -0.350709      -0.858006      -0.690362 -0.488510 -1.430142   \n",
              "3      0.639947 -0.416402      -1.023342      -0.046266 -0.488510 -1.081111   \n",
              "4     -0.250952 -0.219321      -0.527333       1.241924  0.446236  0.824015   \n",
              "5     -0.844885 -1.040492      -0.858006      -1.012410 -0.303412 -1.066568   \n",
              "6     -0.844885  0.798931      -1.354015      -0.690362 -0.488510 -0.397593   \n",
              "7      1.233880 -0.055087       0.464686      -0.690362 -0.488510 -1.081111   \n",
              "8     -1.141852  0.503310       0.960695      -0.046266 -0.488510 -0.746623   \n",
              "9      0.046014  0.240535      -1.023342      -1.656505  1.288433 -0.717538   \n",
              "10    -0.844885 -1.106186       0.464686       0.168432 -0.146078 -0.063105   \n",
              "11     2.124780 -0.613483      -0.361996       1.349274 -0.488510  2.001995   \n",
              "12    -0.547919 -0.449249      -0.858006       0.490480 -0.331176 -1.052025   \n",
              "13     0.342981  2.145652       0.299349      -0.046266  1.066315  1.623878   \n",
              "14    -0.547919  0.798931      -0.196660       1.134575  2.482317 -0.644823   \n",
              "\n",
              "    DiabetesPedigreeFunction       Age  \n",
              "0                  -0.766737  2.702312  \n",
              "1                  -0.721435  0.830381  \n",
              "2                  -0.996266 -1.041549  \n",
              "3                  -0.802978 -0.531023  \n",
              "4                  -0.972105 -0.445935  \n",
              "5                   2.404388 -0.701198  \n",
              "6                   0.278225 -0.360847  \n",
              "7                  -0.189894  2.617224  \n",
              "8                  -0.727475  2.191785  \n",
              "9                   0.166480 -0.190672  \n",
              "10                 -0.322779 -0.360847  \n",
              "11                 -1.044587  0.745293  \n",
              "12                 -1.038547 -1.041549  \n",
              "13                  1.697680  1.681259  \n",
              "14                 -0.407342 -0.360847  "
            ]
          },
          "execution_count": 53,
          "metadata": {},
          "output_type": "execute_result"
        }
      ],
      "source": [
        "x_test_path = \"outputs/datasets/cleaned/x_test_cleaned.csv\"\n",
        "x_test = pd.read_csv(x_test_path)\n",
        "\n",
        "x_test.head(15)"
      ]
    },
    {
      "cell_type": "markdown",
      "metadata": {},
      "source": [
        "---"
      ]
    },
    {
      "cell_type": "markdown",
      "metadata": {},
      "source": []
    },
    {
      "cell_type": "code",
      "execution_count": null,
      "metadata": {},
      "outputs": [],
      "source": []
    }
  ],
  "metadata": {
    "accelerator": "GPU",
    "colab": {
      "name": "Data Practitioner Jupyter Notebook.ipynb",
      "provenance": [],
      "toc_visible": true
    },
    "interpreter": {
      "hash": "8b8334dab9339717f727a1deaf837b322d7a41c20d15cc86be99a8e69ceec8ce"
    },
    "kernelspec": {
      "display_name": "Python 3.8.12 64-bit ('3.8.12': pyenv)",
      "name": "python3"
    },
    "language_info": {
      "codemirror_mode": {
        "name": "ipython",
        "version": 3
      },
      "file_extension": ".py",
      "mimetype": "text/x-python",
      "name": "python",
      "nbconvert_exporter": "python",
      "pygments_lexer": "ipython3",
      "version": "3.8.12"
    },
    "orig_nbformat": 2
  },
  "nbformat": 4,
  "nbformat_minor": 2
}
